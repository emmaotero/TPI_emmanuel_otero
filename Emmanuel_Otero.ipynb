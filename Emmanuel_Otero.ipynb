{
  "cells": [
    {
      "cell_type": "markdown",
      "metadata": {
        "id": "view-in-github",
        "colab_type": "text"
      },
      "source": [
        "<a href=\"https://colab.research.google.com/github/emmaotero/TPI_emmanuel_otero/blob/main/Emmanuel_Otero.ipynb\" target=\"_parent\"><img src=\"https://colab.research.google.com/assets/colab-badge.svg\" alt=\"Open In Colab\"/></a>"
      ]
    },
    {
      "cell_type": "markdown",
      "id": "a48ba216",
      "metadata": {
        "id": "a48ba216"
      },
      "source": [
        "#Pre-entrega TPI Data Analytics : Emmanuel Otero"
      ]
    },
    {
      "cell_type": "markdown",
      "id": "1a9db0f6",
      "metadata": {
        "id": "1a9db0f6"
      },
      "source": [
        "## Etapa 1: Recopilación y Preparación de Datos (Clases 1 a 4)\n",
        "Objetivo: Demostrar habilidades en Python, familiaridad con el entorno de trabajo y\n",
        "conocimientos básicos sobre manipulación de datos.\n",
        "Actividades:\n",
        "1. Crear un documento en Google Colaboratory y cargar los sets de datos\n",
        "como DataFrames.\n",
        "2. Realizar un script básico que calcule las ventas mensuales utilizando\n",
        "variables y operadores.\n",
        "3. Estructuras de Datos: Desarrollar un programa que almacene los datos de\n",
        "ventas (producto, precio, cantidad). Decidir si conviene utilizar diccionarios o\n",
        "listas.\n",
        "4. Introducción a Pandas: realizar un análisis exploratorio inicial de los\n",
        "DataFrames.\n",
        "5. Calidad de Datos: Identificar valores nulos y duplicados en los conjuntos de\n",
        "datos. Documentar el estado inicial de los datos."
      ]
    },
    {
      "cell_type": "markdown",
      "id": "9685f3f6",
      "metadata": {
        "id": "9685f3f6"
      },
      "source": [
        "### 1️) Crear un documento en Google Colaboratory y cargar los sets de datos como DataFrames."
      ]
    },
    {
      "cell_type": "code",
      "execution_count": 1,
      "id": "b4477837",
      "metadata": {
        "id": "b4477837",
        "colab": {
          "base_uri": "https://localhost:8080/"
        },
        "outputId": "c39fdcc7-2891-489c-a4a5-738faef139d4"
      },
      "outputs": [
        {
          "output_type": "stream",
          "name": "stdout",
          "text": [
            "Mounted at /content/drive\n"
          ]
        }
      ],
      "source": [
        "# Montar la unidad\n",
        "from google.colab import drive\n",
        "drive.mount('/content/drive')"
      ]
    },
    {
      "cell_type": "code",
      "source": [
        "# Para liberar la unidad (solo en caso de ser necesario)\n",
        "#drive.flush_and_unmount()"
      ],
      "metadata": {
        "id": "aY0uPWCgThIv"
      },
      "id": "aY0uPWCgThIv",
      "execution_count": 2,
      "outputs": []
    },
    {
      "cell_type": "code",
      "source": [
        "# Verificamos los archivos de la carpeta datasets y chequeamos que estén los archivos necesarios\n",
        "import os\n",
        "os.listdir(\"/content/drive/MyDrive/datasets\")"
      ],
      "metadata": {
        "colab": {
          "base_uri": "https://localhost:8080/"
        },
        "id": "xqYM-wECToUt",
        "outputId": "a57a0403-4110-4f61-c69b-b68669968a37"
      },
      "id": "xqYM-wECToUt",
      "execution_count": 3,
      "outputs": [
        {
          "output_type": "execute_result",
          "data": {
            "text/plain": [
              "['ventas.csv',\n",
              " 'clientes.csv',\n",
              " 'marketing.csv',\n",
              " 'ventas.gsheet',\n",
              " 'ventas_limpio.csv',\n",
              " 'clientes_limpio.csv',\n",
              " 'marketing_limpio.csv',\n",
              " 'Emmanuel_Otero.ipynb']"
            ]
          },
          "metadata": {},
          "execution_count": 3
        }
      ]
    },
    {
      "cell_type": "code",
      "source": [
        "#Seteamos la ruta a nuestros datasets\n",
        "path_marketing = \"/content/drive/MyDrive/datasets/marketing.csv\"\n",
        "path_clientes = \"/content/drive/MyDrive/datasets/clientes.csv\"\n",
        "path_ventas = \"/content/drive/MyDrive/datasets/ventas.csv\""
      ],
      "metadata": {
        "id": "yLEcSSlQVHi6"
      },
      "id": "yLEcSSlQVHi6",
      "execution_count": 4,
      "outputs": []
    },
    {
      "cell_type": "code",
      "source": [
        "#Cargamos los datasets y la libreria pandas\n",
        "import pandas as pd\n",
        "\n",
        "df_marketing = pd.read_csv(path_marketing)\n",
        "df_clientes = pd.read_csv(path_clientes)\n",
        "df_ventas = pd.read_csv(path_ventas)"
      ],
      "metadata": {
        "id": "RJ1MDJMfWAXS"
      },
      "id": "RJ1MDJMfWAXS",
      "execution_count": 5,
      "outputs": []
    },
    {
      "cell_type": "code",
      "source": [
        "#Chequeamos usando head() para ver si se cargaron bien\n",
        "df_marketing.head()"
      ],
      "metadata": {
        "colab": {
          "base_uri": "https://localhost:8080/",
          "height": 206
        },
        "id": "BJOk9UhoWVVz",
        "outputId": "07c13cc5-7242-4405-9239-98cf75f53f6c"
      },
      "id": "BJOk9UhoWVVz",
      "execution_count": 6,
      "outputs": [
        {
          "output_type": "execute_result",
          "data": {
            "text/plain": [
              "   id_campanha         producto  canal  costo fecha_inicio   fecha_fin\n",
              "0           74  Adorno de pared     TV   4.81   20/03/2024  03/05/2024\n",
              "1           12           Tablet   RRSS   3.40   26/03/2024  13/05/2024\n",
              "2           32  Lámpara de mesa  Email   5.54   28/03/2024  20/04/2024\n",
              "3           21       Smartphone   RRSS   6.37   29/03/2024  16/05/2024\n",
              "4           58         Alfombra  Email   4.25   31/03/2024  05/05/2024"
            ],
            "text/html": [
              "\n",
              "  <div id=\"df-b4ee1f6f-05fa-4a46-bcc4-579a3e321deb\" class=\"colab-df-container\">\n",
              "    <div>\n",
              "<style scoped>\n",
              "    .dataframe tbody tr th:only-of-type {\n",
              "        vertical-align: middle;\n",
              "    }\n",
              "\n",
              "    .dataframe tbody tr th {\n",
              "        vertical-align: top;\n",
              "    }\n",
              "\n",
              "    .dataframe thead th {\n",
              "        text-align: right;\n",
              "    }\n",
              "</style>\n",
              "<table border=\"1\" class=\"dataframe\">\n",
              "  <thead>\n",
              "    <tr style=\"text-align: right;\">\n",
              "      <th></th>\n",
              "      <th>id_campanha</th>\n",
              "      <th>producto</th>\n",
              "      <th>canal</th>\n",
              "      <th>costo</th>\n",
              "      <th>fecha_inicio</th>\n",
              "      <th>fecha_fin</th>\n",
              "    </tr>\n",
              "  </thead>\n",
              "  <tbody>\n",
              "    <tr>\n",
              "      <th>0</th>\n",
              "      <td>74</td>\n",
              "      <td>Adorno de pared</td>\n",
              "      <td>TV</td>\n",
              "      <td>4.81</td>\n",
              "      <td>20/03/2024</td>\n",
              "      <td>03/05/2024</td>\n",
              "    </tr>\n",
              "    <tr>\n",
              "      <th>1</th>\n",
              "      <td>12</td>\n",
              "      <td>Tablet</td>\n",
              "      <td>RRSS</td>\n",
              "      <td>3.40</td>\n",
              "      <td>26/03/2024</td>\n",
              "      <td>13/05/2024</td>\n",
              "    </tr>\n",
              "    <tr>\n",
              "      <th>2</th>\n",
              "      <td>32</td>\n",
              "      <td>Lámpara de mesa</td>\n",
              "      <td>Email</td>\n",
              "      <td>5.54</td>\n",
              "      <td>28/03/2024</td>\n",
              "      <td>20/04/2024</td>\n",
              "    </tr>\n",
              "    <tr>\n",
              "      <th>3</th>\n",
              "      <td>21</td>\n",
              "      <td>Smartphone</td>\n",
              "      <td>RRSS</td>\n",
              "      <td>6.37</td>\n",
              "      <td>29/03/2024</td>\n",
              "      <td>16/05/2024</td>\n",
              "    </tr>\n",
              "    <tr>\n",
              "      <th>4</th>\n",
              "      <td>58</td>\n",
              "      <td>Alfombra</td>\n",
              "      <td>Email</td>\n",
              "      <td>4.25</td>\n",
              "      <td>31/03/2024</td>\n",
              "      <td>05/05/2024</td>\n",
              "    </tr>\n",
              "  </tbody>\n",
              "</table>\n",
              "</div>\n",
              "    <div class=\"colab-df-buttons\">\n",
              "\n",
              "  <div class=\"colab-df-container\">\n",
              "    <button class=\"colab-df-convert\" onclick=\"convertToInteractive('df-b4ee1f6f-05fa-4a46-bcc4-579a3e321deb')\"\n",
              "            title=\"Convert this dataframe to an interactive table.\"\n",
              "            style=\"display:none;\">\n",
              "\n",
              "  <svg xmlns=\"http://www.w3.org/2000/svg\" height=\"24px\" viewBox=\"0 -960 960 960\">\n",
              "    <path d=\"M120-120v-720h720v720H120Zm60-500h600v-160H180v160Zm220 220h160v-160H400v160Zm0 220h160v-160H400v160ZM180-400h160v-160H180v160Zm440 0h160v-160H620v160ZM180-180h160v-160H180v160Zm440 0h160v-160H620v160Z\"/>\n",
              "  </svg>\n",
              "    </button>\n",
              "\n",
              "  <style>\n",
              "    .colab-df-container {\n",
              "      display:flex;\n",
              "      gap: 12px;\n",
              "    }\n",
              "\n",
              "    .colab-df-convert {\n",
              "      background-color: #E8F0FE;\n",
              "      border: none;\n",
              "      border-radius: 50%;\n",
              "      cursor: pointer;\n",
              "      display: none;\n",
              "      fill: #1967D2;\n",
              "      height: 32px;\n",
              "      padding: 0 0 0 0;\n",
              "      width: 32px;\n",
              "    }\n",
              "\n",
              "    .colab-df-convert:hover {\n",
              "      background-color: #E2EBFA;\n",
              "      box-shadow: 0px 1px 2px rgba(60, 64, 67, 0.3), 0px 1px 3px 1px rgba(60, 64, 67, 0.15);\n",
              "      fill: #174EA6;\n",
              "    }\n",
              "\n",
              "    .colab-df-buttons div {\n",
              "      margin-bottom: 4px;\n",
              "    }\n",
              "\n",
              "    [theme=dark] .colab-df-convert {\n",
              "      background-color: #3B4455;\n",
              "      fill: #D2E3FC;\n",
              "    }\n",
              "\n",
              "    [theme=dark] .colab-df-convert:hover {\n",
              "      background-color: #434B5C;\n",
              "      box-shadow: 0px 1px 3px 1px rgba(0, 0, 0, 0.15);\n",
              "      filter: drop-shadow(0px 1px 2px rgba(0, 0, 0, 0.3));\n",
              "      fill: #FFFFFF;\n",
              "    }\n",
              "  </style>\n",
              "\n",
              "    <script>\n",
              "      const buttonEl =\n",
              "        document.querySelector('#df-b4ee1f6f-05fa-4a46-bcc4-579a3e321deb button.colab-df-convert');\n",
              "      buttonEl.style.display =\n",
              "        google.colab.kernel.accessAllowed ? 'block' : 'none';\n",
              "\n",
              "      async function convertToInteractive(key) {\n",
              "        const element = document.querySelector('#df-b4ee1f6f-05fa-4a46-bcc4-579a3e321deb');\n",
              "        const dataTable =\n",
              "          await google.colab.kernel.invokeFunction('convertToInteractive',\n",
              "                                                    [key], {});\n",
              "        if (!dataTable) return;\n",
              "\n",
              "        const docLinkHtml = 'Like what you see? Visit the ' +\n",
              "          '<a target=\"_blank\" href=https://colab.research.google.com/notebooks/data_table.ipynb>data table notebook</a>'\n",
              "          + ' to learn more about interactive tables.';\n",
              "        element.innerHTML = '';\n",
              "        dataTable['output_type'] = 'display_data';\n",
              "        await google.colab.output.renderOutput(dataTable, element);\n",
              "        const docLink = document.createElement('div');\n",
              "        docLink.innerHTML = docLinkHtml;\n",
              "        element.appendChild(docLink);\n",
              "      }\n",
              "    </script>\n",
              "  </div>\n",
              "\n",
              "\n",
              "    <div id=\"df-ba3ff5ef-c71b-4637-8dc5-a6d4d2106ee2\">\n",
              "      <button class=\"colab-df-quickchart\" onclick=\"quickchart('df-ba3ff5ef-c71b-4637-8dc5-a6d4d2106ee2')\"\n",
              "                title=\"Suggest charts\"\n",
              "                style=\"display:none;\">\n",
              "\n",
              "<svg xmlns=\"http://www.w3.org/2000/svg\" height=\"24px\"viewBox=\"0 0 24 24\"\n",
              "     width=\"24px\">\n",
              "    <g>\n",
              "        <path d=\"M19 3H5c-1.1 0-2 .9-2 2v14c0 1.1.9 2 2 2h14c1.1 0 2-.9 2-2V5c0-1.1-.9-2-2-2zM9 17H7v-7h2v7zm4 0h-2V7h2v10zm4 0h-2v-4h2v4z\"/>\n",
              "    </g>\n",
              "</svg>\n",
              "      </button>\n",
              "\n",
              "<style>\n",
              "  .colab-df-quickchart {\n",
              "      --bg-color: #E8F0FE;\n",
              "      --fill-color: #1967D2;\n",
              "      --hover-bg-color: #E2EBFA;\n",
              "      --hover-fill-color: #174EA6;\n",
              "      --disabled-fill-color: #AAA;\n",
              "      --disabled-bg-color: #DDD;\n",
              "  }\n",
              "\n",
              "  [theme=dark] .colab-df-quickchart {\n",
              "      --bg-color: #3B4455;\n",
              "      --fill-color: #D2E3FC;\n",
              "      --hover-bg-color: #434B5C;\n",
              "      --hover-fill-color: #FFFFFF;\n",
              "      --disabled-bg-color: #3B4455;\n",
              "      --disabled-fill-color: #666;\n",
              "  }\n",
              "\n",
              "  .colab-df-quickchart {\n",
              "    background-color: var(--bg-color);\n",
              "    border: none;\n",
              "    border-radius: 50%;\n",
              "    cursor: pointer;\n",
              "    display: none;\n",
              "    fill: var(--fill-color);\n",
              "    height: 32px;\n",
              "    padding: 0;\n",
              "    width: 32px;\n",
              "  }\n",
              "\n",
              "  .colab-df-quickchart:hover {\n",
              "    background-color: var(--hover-bg-color);\n",
              "    box-shadow: 0 1px 2px rgba(60, 64, 67, 0.3), 0 1px 3px 1px rgba(60, 64, 67, 0.15);\n",
              "    fill: var(--button-hover-fill-color);\n",
              "  }\n",
              "\n",
              "  .colab-df-quickchart-complete:disabled,\n",
              "  .colab-df-quickchart-complete:disabled:hover {\n",
              "    background-color: var(--disabled-bg-color);\n",
              "    fill: var(--disabled-fill-color);\n",
              "    box-shadow: none;\n",
              "  }\n",
              "\n",
              "  .colab-df-spinner {\n",
              "    border: 2px solid var(--fill-color);\n",
              "    border-color: transparent;\n",
              "    border-bottom-color: var(--fill-color);\n",
              "    animation:\n",
              "      spin 1s steps(1) infinite;\n",
              "  }\n",
              "\n",
              "  @keyframes spin {\n",
              "    0% {\n",
              "      border-color: transparent;\n",
              "      border-bottom-color: var(--fill-color);\n",
              "      border-left-color: var(--fill-color);\n",
              "    }\n",
              "    20% {\n",
              "      border-color: transparent;\n",
              "      border-left-color: var(--fill-color);\n",
              "      border-top-color: var(--fill-color);\n",
              "    }\n",
              "    30% {\n",
              "      border-color: transparent;\n",
              "      border-left-color: var(--fill-color);\n",
              "      border-top-color: var(--fill-color);\n",
              "      border-right-color: var(--fill-color);\n",
              "    }\n",
              "    40% {\n",
              "      border-color: transparent;\n",
              "      border-right-color: var(--fill-color);\n",
              "      border-top-color: var(--fill-color);\n",
              "    }\n",
              "    60% {\n",
              "      border-color: transparent;\n",
              "      border-right-color: var(--fill-color);\n",
              "    }\n",
              "    80% {\n",
              "      border-color: transparent;\n",
              "      border-right-color: var(--fill-color);\n",
              "      border-bottom-color: var(--fill-color);\n",
              "    }\n",
              "    90% {\n",
              "      border-color: transparent;\n",
              "      border-bottom-color: var(--fill-color);\n",
              "    }\n",
              "  }\n",
              "</style>\n",
              "\n",
              "      <script>\n",
              "        async function quickchart(key) {\n",
              "          const quickchartButtonEl =\n",
              "            document.querySelector('#' + key + ' button');\n",
              "          quickchartButtonEl.disabled = true;  // To prevent multiple clicks.\n",
              "          quickchartButtonEl.classList.add('colab-df-spinner');\n",
              "          try {\n",
              "            const charts = await google.colab.kernel.invokeFunction(\n",
              "                'suggestCharts', [key], {});\n",
              "          } catch (error) {\n",
              "            console.error('Error during call to suggestCharts:', error);\n",
              "          }\n",
              "          quickchartButtonEl.classList.remove('colab-df-spinner');\n",
              "          quickchartButtonEl.classList.add('colab-df-quickchart-complete');\n",
              "        }\n",
              "        (() => {\n",
              "          let quickchartButtonEl =\n",
              "            document.querySelector('#df-ba3ff5ef-c71b-4637-8dc5-a6d4d2106ee2 button');\n",
              "          quickchartButtonEl.style.display =\n",
              "            google.colab.kernel.accessAllowed ? 'block' : 'none';\n",
              "        })();\n",
              "      </script>\n",
              "    </div>\n",
              "\n",
              "    </div>\n",
              "  </div>\n"
            ],
            "application/vnd.google.colaboratory.intrinsic+json": {
              "type": "dataframe",
              "variable_name": "df_marketing",
              "summary": "{\n  \"name\": \"df_marketing\",\n  \"rows\": 90,\n  \"fields\": [\n    {\n      \"column\": \"id_campanha\",\n      \"properties\": {\n        \"dtype\": \"number\",\n        \"std\": 26,\n        \"min\": 1,\n        \"max\": 90,\n        \"num_unique_values\": 90,\n        \"samples\": [\n          3,\n          4,\n          62\n        ],\n        \"semantic_type\": \"\",\n        \"description\": \"\"\n      }\n    },\n    {\n      \"column\": \"producto\",\n      \"properties\": {\n        \"dtype\": \"category\",\n        \"num_unique_values\": 30,\n        \"samples\": [\n          \"Horno el\\u00e9ctrico\",\n          \"Televisor\",\n          \"Aspiradora\"\n        ],\n        \"semantic_type\": \"\",\n        \"description\": \"\"\n      }\n    },\n    {\n      \"column\": \"canal\",\n      \"properties\": {\n        \"dtype\": \"category\",\n        \"num_unique_values\": 3,\n        \"samples\": [\n          \"TV\",\n          \"RRSS\",\n          \"Email\"\n        ],\n        \"semantic_type\": \"\",\n        \"description\": \"\"\n      }\n    },\n    {\n      \"column\": \"costo\",\n      \"properties\": {\n        \"dtype\": \"number\",\n        \"std\": 0.9477497891961508,\n        \"min\": 2.95,\n        \"max\": 7.39,\n        \"num_unique_values\": 81,\n        \"samples\": [\n          3.22,\n          4.81,\n          5.24\n        ],\n        \"semantic_type\": \"\",\n        \"description\": \"\"\n      }\n    },\n    {\n      \"column\": \"fecha_inicio\",\n      \"properties\": {\n        \"dtype\": \"object\",\n        \"num_unique_values\": 78,\n        \"samples\": [\n          \"15/07/2024\",\n          \"20/03/2024\",\n          \"16/07/2024\"\n        ],\n        \"semantic_type\": \"\",\n        \"description\": \"\"\n      }\n    },\n    {\n      \"column\": \"fecha_fin\",\n      \"properties\": {\n        \"dtype\": \"string\",\n        \"num_unique_values\": 78,\n        \"samples\": [\n          \"01/08/2024\",\n          \"03/05/2024\",\n          \"30/08/2024\"\n        ],\n        \"semantic_type\": \"\",\n        \"description\": \"\"\n      }\n    }\n  ]\n}"
            }
          },
          "metadata": {},
          "execution_count": 6
        }
      ]
    },
    {
      "cell_type": "code",
      "source": [
        "df_clientes.head()"
      ],
      "metadata": {
        "colab": {
          "base_uri": "https://localhost:8080/",
          "height": 206
        },
        "id": "Wu9yMIqmWbkC",
        "outputId": "80e42129-385b-42b8-c171-44a23054f37d"
      },
      "id": "Wu9yMIqmWbkC",
      "execution_count": 7,
      "outputs": [
        {
          "output_type": "execute_result",
          "data": {
            "text/plain": [
              "   id_cliente               nombre  edad         ciudad  ingresos\n",
              "0           1      Aloysia Screase    44  Mar del Plata  42294.68\n",
              "1           2  Kristina Scaplehorn    25        Posadas  24735.04\n",
              "2           3       Filip Castagne    50    Resistencia  35744.85\n",
              "3           4          Liuka Luard    39   Bahía Blanca  27647.96\n",
              "4           5        Dore Cockshtt    28        Rosario  28245.65"
            ],
            "text/html": [
              "\n",
              "  <div id=\"df-49efc347-4bdb-40f1-8414-252d7af67f06\" class=\"colab-df-container\">\n",
              "    <div>\n",
              "<style scoped>\n",
              "    .dataframe tbody tr th:only-of-type {\n",
              "        vertical-align: middle;\n",
              "    }\n",
              "\n",
              "    .dataframe tbody tr th {\n",
              "        vertical-align: top;\n",
              "    }\n",
              "\n",
              "    .dataframe thead th {\n",
              "        text-align: right;\n",
              "    }\n",
              "</style>\n",
              "<table border=\"1\" class=\"dataframe\">\n",
              "  <thead>\n",
              "    <tr style=\"text-align: right;\">\n",
              "      <th></th>\n",
              "      <th>id_cliente</th>\n",
              "      <th>nombre</th>\n",
              "      <th>edad</th>\n",
              "      <th>ciudad</th>\n",
              "      <th>ingresos</th>\n",
              "    </tr>\n",
              "  </thead>\n",
              "  <tbody>\n",
              "    <tr>\n",
              "      <th>0</th>\n",
              "      <td>1</td>\n",
              "      <td>Aloysia Screase</td>\n",
              "      <td>44</td>\n",
              "      <td>Mar del Plata</td>\n",
              "      <td>42294.68</td>\n",
              "    </tr>\n",
              "    <tr>\n",
              "      <th>1</th>\n",
              "      <td>2</td>\n",
              "      <td>Kristina Scaplehorn</td>\n",
              "      <td>25</td>\n",
              "      <td>Posadas</td>\n",
              "      <td>24735.04</td>\n",
              "    </tr>\n",
              "    <tr>\n",
              "      <th>2</th>\n",
              "      <td>3</td>\n",
              "      <td>Filip Castagne</td>\n",
              "      <td>50</td>\n",
              "      <td>Resistencia</td>\n",
              "      <td>35744.85</td>\n",
              "    </tr>\n",
              "    <tr>\n",
              "      <th>3</th>\n",
              "      <td>4</td>\n",
              "      <td>Liuka Luard</td>\n",
              "      <td>39</td>\n",
              "      <td>Bahía Blanca</td>\n",
              "      <td>27647.96</td>\n",
              "    </tr>\n",
              "    <tr>\n",
              "      <th>4</th>\n",
              "      <td>5</td>\n",
              "      <td>Dore Cockshtt</td>\n",
              "      <td>28</td>\n",
              "      <td>Rosario</td>\n",
              "      <td>28245.65</td>\n",
              "    </tr>\n",
              "  </tbody>\n",
              "</table>\n",
              "</div>\n",
              "    <div class=\"colab-df-buttons\">\n",
              "\n",
              "  <div class=\"colab-df-container\">\n",
              "    <button class=\"colab-df-convert\" onclick=\"convertToInteractive('df-49efc347-4bdb-40f1-8414-252d7af67f06')\"\n",
              "            title=\"Convert this dataframe to an interactive table.\"\n",
              "            style=\"display:none;\">\n",
              "\n",
              "  <svg xmlns=\"http://www.w3.org/2000/svg\" height=\"24px\" viewBox=\"0 -960 960 960\">\n",
              "    <path d=\"M120-120v-720h720v720H120Zm60-500h600v-160H180v160Zm220 220h160v-160H400v160Zm0 220h160v-160H400v160ZM180-400h160v-160H180v160Zm440 0h160v-160H620v160ZM180-180h160v-160H180v160Zm440 0h160v-160H620v160Z\"/>\n",
              "  </svg>\n",
              "    </button>\n",
              "\n",
              "  <style>\n",
              "    .colab-df-container {\n",
              "      display:flex;\n",
              "      gap: 12px;\n",
              "    }\n",
              "\n",
              "    .colab-df-convert {\n",
              "      background-color: #E8F0FE;\n",
              "      border: none;\n",
              "      border-radius: 50%;\n",
              "      cursor: pointer;\n",
              "      display: none;\n",
              "      fill: #1967D2;\n",
              "      height: 32px;\n",
              "      padding: 0 0 0 0;\n",
              "      width: 32px;\n",
              "    }\n",
              "\n",
              "    .colab-df-convert:hover {\n",
              "      background-color: #E2EBFA;\n",
              "      box-shadow: 0px 1px 2px rgba(60, 64, 67, 0.3), 0px 1px 3px 1px rgba(60, 64, 67, 0.15);\n",
              "      fill: #174EA6;\n",
              "    }\n",
              "\n",
              "    .colab-df-buttons div {\n",
              "      margin-bottom: 4px;\n",
              "    }\n",
              "\n",
              "    [theme=dark] .colab-df-convert {\n",
              "      background-color: #3B4455;\n",
              "      fill: #D2E3FC;\n",
              "    }\n",
              "\n",
              "    [theme=dark] .colab-df-convert:hover {\n",
              "      background-color: #434B5C;\n",
              "      box-shadow: 0px 1px 3px 1px rgba(0, 0, 0, 0.15);\n",
              "      filter: drop-shadow(0px 1px 2px rgba(0, 0, 0, 0.3));\n",
              "      fill: #FFFFFF;\n",
              "    }\n",
              "  </style>\n",
              "\n",
              "    <script>\n",
              "      const buttonEl =\n",
              "        document.querySelector('#df-49efc347-4bdb-40f1-8414-252d7af67f06 button.colab-df-convert');\n",
              "      buttonEl.style.display =\n",
              "        google.colab.kernel.accessAllowed ? 'block' : 'none';\n",
              "\n",
              "      async function convertToInteractive(key) {\n",
              "        const element = document.querySelector('#df-49efc347-4bdb-40f1-8414-252d7af67f06');\n",
              "        const dataTable =\n",
              "          await google.colab.kernel.invokeFunction('convertToInteractive',\n",
              "                                                    [key], {});\n",
              "        if (!dataTable) return;\n",
              "\n",
              "        const docLinkHtml = 'Like what you see? Visit the ' +\n",
              "          '<a target=\"_blank\" href=https://colab.research.google.com/notebooks/data_table.ipynb>data table notebook</a>'\n",
              "          + ' to learn more about interactive tables.';\n",
              "        element.innerHTML = '';\n",
              "        dataTable['output_type'] = 'display_data';\n",
              "        await google.colab.output.renderOutput(dataTable, element);\n",
              "        const docLink = document.createElement('div');\n",
              "        docLink.innerHTML = docLinkHtml;\n",
              "        element.appendChild(docLink);\n",
              "      }\n",
              "    </script>\n",
              "  </div>\n",
              "\n",
              "\n",
              "    <div id=\"df-fa009d6c-55f5-4c9e-9f82-f678b607895f\">\n",
              "      <button class=\"colab-df-quickchart\" onclick=\"quickchart('df-fa009d6c-55f5-4c9e-9f82-f678b607895f')\"\n",
              "                title=\"Suggest charts\"\n",
              "                style=\"display:none;\">\n",
              "\n",
              "<svg xmlns=\"http://www.w3.org/2000/svg\" height=\"24px\"viewBox=\"0 0 24 24\"\n",
              "     width=\"24px\">\n",
              "    <g>\n",
              "        <path d=\"M19 3H5c-1.1 0-2 .9-2 2v14c0 1.1.9 2 2 2h14c1.1 0 2-.9 2-2V5c0-1.1-.9-2-2-2zM9 17H7v-7h2v7zm4 0h-2V7h2v10zm4 0h-2v-4h2v4z\"/>\n",
              "    </g>\n",
              "</svg>\n",
              "      </button>\n",
              "\n",
              "<style>\n",
              "  .colab-df-quickchart {\n",
              "      --bg-color: #E8F0FE;\n",
              "      --fill-color: #1967D2;\n",
              "      --hover-bg-color: #E2EBFA;\n",
              "      --hover-fill-color: #174EA6;\n",
              "      --disabled-fill-color: #AAA;\n",
              "      --disabled-bg-color: #DDD;\n",
              "  }\n",
              "\n",
              "  [theme=dark] .colab-df-quickchart {\n",
              "      --bg-color: #3B4455;\n",
              "      --fill-color: #D2E3FC;\n",
              "      --hover-bg-color: #434B5C;\n",
              "      --hover-fill-color: #FFFFFF;\n",
              "      --disabled-bg-color: #3B4455;\n",
              "      --disabled-fill-color: #666;\n",
              "  }\n",
              "\n",
              "  .colab-df-quickchart {\n",
              "    background-color: var(--bg-color);\n",
              "    border: none;\n",
              "    border-radius: 50%;\n",
              "    cursor: pointer;\n",
              "    display: none;\n",
              "    fill: var(--fill-color);\n",
              "    height: 32px;\n",
              "    padding: 0;\n",
              "    width: 32px;\n",
              "  }\n",
              "\n",
              "  .colab-df-quickchart:hover {\n",
              "    background-color: var(--hover-bg-color);\n",
              "    box-shadow: 0 1px 2px rgba(60, 64, 67, 0.3), 0 1px 3px 1px rgba(60, 64, 67, 0.15);\n",
              "    fill: var(--button-hover-fill-color);\n",
              "  }\n",
              "\n",
              "  .colab-df-quickchart-complete:disabled,\n",
              "  .colab-df-quickchart-complete:disabled:hover {\n",
              "    background-color: var(--disabled-bg-color);\n",
              "    fill: var(--disabled-fill-color);\n",
              "    box-shadow: none;\n",
              "  }\n",
              "\n",
              "  .colab-df-spinner {\n",
              "    border: 2px solid var(--fill-color);\n",
              "    border-color: transparent;\n",
              "    border-bottom-color: var(--fill-color);\n",
              "    animation:\n",
              "      spin 1s steps(1) infinite;\n",
              "  }\n",
              "\n",
              "  @keyframes spin {\n",
              "    0% {\n",
              "      border-color: transparent;\n",
              "      border-bottom-color: var(--fill-color);\n",
              "      border-left-color: var(--fill-color);\n",
              "    }\n",
              "    20% {\n",
              "      border-color: transparent;\n",
              "      border-left-color: var(--fill-color);\n",
              "      border-top-color: var(--fill-color);\n",
              "    }\n",
              "    30% {\n",
              "      border-color: transparent;\n",
              "      border-left-color: var(--fill-color);\n",
              "      border-top-color: var(--fill-color);\n",
              "      border-right-color: var(--fill-color);\n",
              "    }\n",
              "    40% {\n",
              "      border-color: transparent;\n",
              "      border-right-color: var(--fill-color);\n",
              "      border-top-color: var(--fill-color);\n",
              "    }\n",
              "    60% {\n",
              "      border-color: transparent;\n",
              "      border-right-color: var(--fill-color);\n",
              "    }\n",
              "    80% {\n",
              "      border-color: transparent;\n",
              "      border-right-color: var(--fill-color);\n",
              "      border-bottom-color: var(--fill-color);\n",
              "    }\n",
              "    90% {\n",
              "      border-color: transparent;\n",
              "      border-bottom-color: var(--fill-color);\n",
              "    }\n",
              "  }\n",
              "</style>\n",
              "\n",
              "      <script>\n",
              "        async function quickchart(key) {\n",
              "          const quickchartButtonEl =\n",
              "            document.querySelector('#' + key + ' button');\n",
              "          quickchartButtonEl.disabled = true;  // To prevent multiple clicks.\n",
              "          quickchartButtonEl.classList.add('colab-df-spinner');\n",
              "          try {\n",
              "            const charts = await google.colab.kernel.invokeFunction(\n",
              "                'suggestCharts', [key], {});\n",
              "          } catch (error) {\n",
              "            console.error('Error during call to suggestCharts:', error);\n",
              "          }\n",
              "          quickchartButtonEl.classList.remove('colab-df-spinner');\n",
              "          quickchartButtonEl.classList.add('colab-df-quickchart-complete');\n",
              "        }\n",
              "        (() => {\n",
              "          let quickchartButtonEl =\n",
              "            document.querySelector('#df-fa009d6c-55f5-4c9e-9f82-f678b607895f button');\n",
              "          quickchartButtonEl.style.display =\n",
              "            google.colab.kernel.accessAllowed ? 'block' : 'none';\n",
              "        })();\n",
              "      </script>\n",
              "    </div>\n",
              "\n",
              "    </div>\n",
              "  </div>\n"
            ],
            "application/vnd.google.colaboratory.intrinsic+json": {
              "type": "dataframe",
              "variable_name": "df_clientes",
              "summary": "{\n  \"name\": \"df_clientes\",\n  \"rows\": 567,\n  \"fields\": [\n    {\n      \"column\": \"id_cliente\",\n      \"properties\": {\n        \"dtype\": \"number\",\n        \"std\": 163,\n        \"min\": 1,\n        \"max\": 567,\n        \"num_unique_values\": 567,\n        \"samples\": [\n          541,\n          526,\n          235\n        ],\n        \"semantic_type\": \"\",\n        \"description\": \"\"\n      }\n    },\n    {\n      \"column\": \"nombre\",\n      \"properties\": {\n        \"dtype\": \"string\",\n        \"num_unique_values\": 567,\n        \"samples\": [\n          \"Farand Seres\",\n          \"Frederic Quincey\",\n          \"Rancell Voaden\"\n        ],\n        \"semantic_type\": \"\",\n        \"description\": \"\"\n      }\n    },\n    {\n      \"column\": \"edad\",\n      \"properties\": {\n        \"dtype\": \"number\",\n        \"std\": 10,\n        \"min\": 20,\n        \"max\": 81,\n        \"num_unique_values\": 49,\n        \"samples\": [\n          32,\n          63,\n          67\n        ],\n        \"semantic_type\": \"\",\n        \"description\": \"\"\n      }\n    },\n    {\n      \"column\": \"ciudad\",\n      \"properties\": {\n        \"dtype\": \"category\",\n        \"num_unique_values\": 12,\n        \"samples\": [\n          \"Salta\",\n          \"Merlo\",\n          \"Mar del Plata\"\n        ],\n        \"semantic_type\": \"\",\n        \"description\": \"\"\n      }\n    },\n    {\n      \"column\": \"ingresos\",\n      \"properties\": {\n        \"dtype\": \"number\",\n        \"std\": 12974.531445696402,\n        \"min\": 170.29,\n        \"max\": 88053.01,\n        \"num_unique_values\": 547,\n        \"samples\": [\n          51421.58,\n          35205.04,\n          30003.34\n        ],\n        \"semantic_type\": \"\",\n        \"description\": \"\"\n      }\n    }\n  ]\n}"
            }
          },
          "metadata": {},
          "execution_count": 7
        }
      ]
    },
    {
      "cell_type": "code",
      "source": [
        "df_ventas.head()"
      ],
      "metadata": {
        "colab": {
          "base_uri": "https://localhost:8080/",
          "height": 206
        },
        "id": "qauKy9ZIWb3a",
        "outputId": "8d52396c-8310-49c0-c551-d9b3ab59186b"
      },
      "id": "qauKy9ZIWb3a",
      "execution_count": 8,
      "outputs": [
        {
          "output_type": "execute_result",
          "data": {
            "text/plain": [
              "   id_venta           producto   precio  cantidad fecha_venta  \\\n",
              "0       792  Cuadro decorativo   $69.94       5.0  02/01/2024   \n",
              "1       811    Lámpara de mesa  $105.10       5.0  02/01/2024   \n",
              "2      1156           Secadora   $97.96       3.0  02/01/2024   \n",
              "3      1372           Heladera  $114.35       8.0  02/01/2024   \n",
              "4      1546           Secadora  $106.21       4.0  02/01/2024   \n",
              "\n",
              "           categoria  \n",
              "0         Decoración  \n",
              "1         Decoración  \n",
              "2  Electrodomésticos  \n",
              "3  Electrodomésticos  \n",
              "4  Electrodomésticos  "
            ],
            "text/html": [
              "\n",
              "  <div id=\"df-3e94d1e3-f71c-42bb-94c5-03400f19d172\" class=\"colab-df-container\">\n",
              "    <div>\n",
              "<style scoped>\n",
              "    .dataframe tbody tr th:only-of-type {\n",
              "        vertical-align: middle;\n",
              "    }\n",
              "\n",
              "    .dataframe tbody tr th {\n",
              "        vertical-align: top;\n",
              "    }\n",
              "\n",
              "    .dataframe thead th {\n",
              "        text-align: right;\n",
              "    }\n",
              "</style>\n",
              "<table border=\"1\" class=\"dataframe\">\n",
              "  <thead>\n",
              "    <tr style=\"text-align: right;\">\n",
              "      <th></th>\n",
              "      <th>id_venta</th>\n",
              "      <th>producto</th>\n",
              "      <th>precio</th>\n",
              "      <th>cantidad</th>\n",
              "      <th>fecha_venta</th>\n",
              "      <th>categoria</th>\n",
              "    </tr>\n",
              "  </thead>\n",
              "  <tbody>\n",
              "    <tr>\n",
              "      <th>0</th>\n",
              "      <td>792</td>\n",
              "      <td>Cuadro decorativo</td>\n",
              "      <td>$69.94</td>\n",
              "      <td>5.0</td>\n",
              "      <td>02/01/2024</td>\n",
              "      <td>Decoración</td>\n",
              "    </tr>\n",
              "    <tr>\n",
              "      <th>1</th>\n",
              "      <td>811</td>\n",
              "      <td>Lámpara de mesa</td>\n",
              "      <td>$105.10</td>\n",
              "      <td>5.0</td>\n",
              "      <td>02/01/2024</td>\n",
              "      <td>Decoración</td>\n",
              "    </tr>\n",
              "    <tr>\n",
              "      <th>2</th>\n",
              "      <td>1156</td>\n",
              "      <td>Secadora</td>\n",
              "      <td>$97.96</td>\n",
              "      <td>3.0</td>\n",
              "      <td>02/01/2024</td>\n",
              "      <td>Electrodomésticos</td>\n",
              "    </tr>\n",
              "    <tr>\n",
              "      <th>3</th>\n",
              "      <td>1372</td>\n",
              "      <td>Heladera</td>\n",
              "      <td>$114.35</td>\n",
              "      <td>8.0</td>\n",
              "      <td>02/01/2024</td>\n",
              "      <td>Electrodomésticos</td>\n",
              "    </tr>\n",
              "    <tr>\n",
              "      <th>4</th>\n",
              "      <td>1546</td>\n",
              "      <td>Secadora</td>\n",
              "      <td>$106.21</td>\n",
              "      <td>4.0</td>\n",
              "      <td>02/01/2024</td>\n",
              "      <td>Electrodomésticos</td>\n",
              "    </tr>\n",
              "  </tbody>\n",
              "</table>\n",
              "</div>\n",
              "    <div class=\"colab-df-buttons\">\n",
              "\n",
              "  <div class=\"colab-df-container\">\n",
              "    <button class=\"colab-df-convert\" onclick=\"convertToInteractive('df-3e94d1e3-f71c-42bb-94c5-03400f19d172')\"\n",
              "            title=\"Convert this dataframe to an interactive table.\"\n",
              "            style=\"display:none;\">\n",
              "\n",
              "  <svg xmlns=\"http://www.w3.org/2000/svg\" height=\"24px\" viewBox=\"0 -960 960 960\">\n",
              "    <path d=\"M120-120v-720h720v720H120Zm60-500h600v-160H180v160Zm220 220h160v-160H400v160Zm0 220h160v-160H400v160ZM180-400h160v-160H180v160Zm440 0h160v-160H620v160ZM180-180h160v-160H180v160Zm440 0h160v-160H620v160Z\"/>\n",
              "  </svg>\n",
              "    </button>\n",
              "\n",
              "  <style>\n",
              "    .colab-df-container {\n",
              "      display:flex;\n",
              "      gap: 12px;\n",
              "    }\n",
              "\n",
              "    .colab-df-convert {\n",
              "      background-color: #E8F0FE;\n",
              "      border: none;\n",
              "      border-radius: 50%;\n",
              "      cursor: pointer;\n",
              "      display: none;\n",
              "      fill: #1967D2;\n",
              "      height: 32px;\n",
              "      padding: 0 0 0 0;\n",
              "      width: 32px;\n",
              "    }\n",
              "\n",
              "    .colab-df-convert:hover {\n",
              "      background-color: #E2EBFA;\n",
              "      box-shadow: 0px 1px 2px rgba(60, 64, 67, 0.3), 0px 1px 3px 1px rgba(60, 64, 67, 0.15);\n",
              "      fill: #174EA6;\n",
              "    }\n",
              "\n",
              "    .colab-df-buttons div {\n",
              "      margin-bottom: 4px;\n",
              "    }\n",
              "\n",
              "    [theme=dark] .colab-df-convert {\n",
              "      background-color: #3B4455;\n",
              "      fill: #D2E3FC;\n",
              "    }\n",
              "\n",
              "    [theme=dark] .colab-df-convert:hover {\n",
              "      background-color: #434B5C;\n",
              "      box-shadow: 0px 1px 3px 1px rgba(0, 0, 0, 0.15);\n",
              "      filter: drop-shadow(0px 1px 2px rgba(0, 0, 0, 0.3));\n",
              "      fill: #FFFFFF;\n",
              "    }\n",
              "  </style>\n",
              "\n",
              "    <script>\n",
              "      const buttonEl =\n",
              "        document.querySelector('#df-3e94d1e3-f71c-42bb-94c5-03400f19d172 button.colab-df-convert');\n",
              "      buttonEl.style.display =\n",
              "        google.colab.kernel.accessAllowed ? 'block' : 'none';\n",
              "\n",
              "      async function convertToInteractive(key) {\n",
              "        const element = document.querySelector('#df-3e94d1e3-f71c-42bb-94c5-03400f19d172');\n",
              "        const dataTable =\n",
              "          await google.colab.kernel.invokeFunction('convertToInteractive',\n",
              "                                                    [key], {});\n",
              "        if (!dataTable) return;\n",
              "\n",
              "        const docLinkHtml = 'Like what you see? Visit the ' +\n",
              "          '<a target=\"_blank\" href=https://colab.research.google.com/notebooks/data_table.ipynb>data table notebook</a>'\n",
              "          + ' to learn more about interactive tables.';\n",
              "        element.innerHTML = '';\n",
              "        dataTable['output_type'] = 'display_data';\n",
              "        await google.colab.output.renderOutput(dataTable, element);\n",
              "        const docLink = document.createElement('div');\n",
              "        docLink.innerHTML = docLinkHtml;\n",
              "        element.appendChild(docLink);\n",
              "      }\n",
              "    </script>\n",
              "  </div>\n",
              "\n",
              "\n",
              "    <div id=\"df-2907fcdc-d8a1-402a-ac32-b3ebac1b0132\">\n",
              "      <button class=\"colab-df-quickchart\" onclick=\"quickchart('df-2907fcdc-d8a1-402a-ac32-b3ebac1b0132')\"\n",
              "                title=\"Suggest charts\"\n",
              "                style=\"display:none;\">\n",
              "\n",
              "<svg xmlns=\"http://www.w3.org/2000/svg\" height=\"24px\"viewBox=\"0 0 24 24\"\n",
              "     width=\"24px\">\n",
              "    <g>\n",
              "        <path d=\"M19 3H5c-1.1 0-2 .9-2 2v14c0 1.1.9 2 2 2h14c1.1 0 2-.9 2-2V5c0-1.1-.9-2-2-2zM9 17H7v-7h2v7zm4 0h-2V7h2v10zm4 0h-2v-4h2v4z\"/>\n",
              "    </g>\n",
              "</svg>\n",
              "      </button>\n",
              "\n",
              "<style>\n",
              "  .colab-df-quickchart {\n",
              "      --bg-color: #E8F0FE;\n",
              "      --fill-color: #1967D2;\n",
              "      --hover-bg-color: #E2EBFA;\n",
              "      --hover-fill-color: #174EA6;\n",
              "      --disabled-fill-color: #AAA;\n",
              "      --disabled-bg-color: #DDD;\n",
              "  }\n",
              "\n",
              "  [theme=dark] .colab-df-quickchart {\n",
              "      --bg-color: #3B4455;\n",
              "      --fill-color: #D2E3FC;\n",
              "      --hover-bg-color: #434B5C;\n",
              "      --hover-fill-color: #FFFFFF;\n",
              "      --disabled-bg-color: #3B4455;\n",
              "      --disabled-fill-color: #666;\n",
              "  }\n",
              "\n",
              "  .colab-df-quickchart {\n",
              "    background-color: var(--bg-color);\n",
              "    border: none;\n",
              "    border-radius: 50%;\n",
              "    cursor: pointer;\n",
              "    display: none;\n",
              "    fill: var(--fill-color);\n",
              "    height: 32px;\n",
              "    padding: 0;\n",
              "    width: 32px;\n",
              "  }\n",
              "\n",
              "  .colab-df-quickchart:hover {\n",
              "    background-color: var(--hover-bg-color);\n",
              "    box-shadow: 0 1px 2px rgba(60, 64, 67, 0.3), 0 1px 3px 1px rgba(60, 64, 67, 0.15);\n",
              "    fill: var(--button-hover-fill-color);\n",
              "  }\n",
              "\n",
              "  .colab-df-quickchart-complete:disabled,\n",
              "  .colab-df-quickchart-complete:disabled:hover {\n",
              "    background-color: var(--disabled-bg-color);\n",
              "    fill: var(--disabled-fill-color);\n",
              "    box-shadow: none;\n",
              "  }\n",
              "\n",
              "  .colab-df-spinner {\n",
              "    border: 2px solid var(--fill-color);\n",
              "    border-color: transparent;\n",
              "    border-bottom-color: var(--fill-color);\n",
              "    animation:\n",
              "      spin 1s steps(1) infinite;\n",
              "  }\n",
              "\n",
              "  @keyframes spin {\n",
              "    0% {\n",
              "      border-color: transparent;\n",
              "      border-bottom-color: var(--fill-color);\n",
              "      border-left-color: var(--fill-color);\n",
              "    }\n",
              "    20% {\n",
              "      border-color: transparent;\n",
              "      border-left-color: var(--fill-color);\n",
              "      border-top-color: var(--fill-color);\n",
              "    }\n",
              "    30% {\n",
              "      border-color: transparent;\n",
              "      border-left-color: var(--fill-color);\n",
              "      border-top-color: var(--fill-color);\n",
              "      border-right-color: var(--fill-color);\n",
              "    }\n",
              "    40% {\n",
              "      border-color: transparent;\n",
              "      border-right-color: var(--fill-color);\n",
              "      border-top-color: var(--fill-color);\n",
              "    }\n",
              "    60% {\n",
              "      border-color: transparent;\n",
              "      border-right-color: var(--fill-color);\n",
              "    }\n",
              "    80% {\n",
              "      border-color: transparent;\n",
              "      border-right-color: var(--fill-color);\n",
              "      border-bottom-color: var(--fill-color);\n",
              "    }\n",
              "    90% {\n",
              "      border-color: transparent;\n",
              "      border-bottom-color: var(--fill-color);\n",
              "    }\n",
              "  }\n",
              "</style>\n",
              "\n",
              "      <script>\n",
              "        async function quickchart(key) {\n",
              "          const quickchartButtonEl =\n",
              "            document.querySelector('#' + key + ' button');\n",
              "          quickchartButtonEl.disabled = true;  // To prevent multiple clicks.\n",
              "          quickchartButtonEl.classList.add('colab-df-spinner');\n",
              "          try {\n",
              "            const charts = await google.colab.kernel.invokeFunction(\n",
              "                'suggestCharts', [key], {});\n",
              "          } catch (error) {\n",
              "            console.error('Error during call to suggestCharts:', error);\n",
              "          }\n",
              "          quickchartButtonEl.classList.remove('colab-df-spinner');\n",
              "          quickchartButtonEl.classList.add('colab-df-quickchart-complete');\n",
              "        }\n",
              "        (() => {\n",
              "          let quickchartButtonEl =\n",
              "            document.querySelector('#df-2907fcdc-d8a1-402a-ac32-b3ebac1b0132 button');\n",
              "          quickchartButtonEl.style.display =\n",
              "            google.colab.kernel.accessAllowed ? 'block' : 'none';\n",
              "        })();\n",
              "      </script>\n",
              "    </div>\n",
              "\n",
              "    </div>\n",
              "  </div>\n"
            ],
            "application/vnd.google.colaboratory.intrinsic+json": {
              "type": "dataframe",
              "variable_name": "df_ventas",
              "summary": "{\n  \"name\": \"df_ventas\",\n  \"rows\": 3035,\n  \"fields\": [\n    {\n      \"column\": \"id_venta\",\n      \"properties\": {\n        \"dtype\": \"number\",\n        \"std\": 866,\n        \"min\": 1,\n        \"max\": 3000,\n        \"num_unique_values\": 3000,\n        \"samples\": [\n          1155,\n          2726,\n          2880\n        ],\n        \"semantic_type\": \"\",\n        \"description\": \"\"\n      }\n    },\n    {\n      \"column\": \"producto\",\n      \"properties\": {\n        \"dtype\": \"category\",\n        \"num_unique_values\": 30,\n        \"samples\": [\n          \"Alfombra\",\n          \"Lavadora\",\n          \"Parlantes Bluetooth\"\n        ],\n        \"semantic_type\": \"\",\n        \"description\": \"\"\n      }\n    },\n    {\n      \"column\": \"precio\",\n      \"properties\": {\n        \"dtype\": \"string\",\n        \"num_unique_values\": 2590,\n        \"samples\": [\n          \"$112.46\",\n          \"$119.78\",\n          \"$70.13\"\n        ],\n        \"semantic_type\": \"\",\n        \"description\": \"\"\n      }\n    },\n    {\n      \"column\": \"cantidad\",\n      \"properties\": {\n        \"dtype\": \"number\",\n        \"std\": 3.457249927514147,\n        \"min\": 1.0,\n        \"max\": 12.0,\n        \"num_unique_values\": 12,\n        \"samples\": [\n          10.0,\n          12.0,\n          5.0\n        ],\n        \"semantic_type\": \"\",\n        \"description\": \"\"\n      }\n    },\n    {\n      \"column\": \"fecha_venta\",\n      \"properties\": {\n        \"dtype\": \"category\",\n        \"num_unique_values\": 364,\n        \"samples\": [\n          \"13/07/2024\",\n          \"04/02/2024\",\n          \"17/01/2024\"\n        ],\n        \"semantic_type\": \"\",\n        \"description\": \"\"\n      }\n    },\n    {\n      \"column\": \"categoria\",\n      \"properties\": {\n        \"dtype\": \"category\",\n        \"num_unique_values\": 3,\n        \"samples\": [\n          \"Decoraci\\u00f3n\",\n          \"Electrodom\\u00e9sticos\",\n          \"Electr\\u00f3nica\"\n        ],\n        \"semantic_type\": \"\",\n        \"description\": \"\"\n      }\n    }\n  ]\n}"
            }
          },
          "metadata": {},
          "execution_count": 8
        }
      ]
    },
    {
      "cell_type": "markdown",
      "source": [
        "## 2) Realizar un script básico que calcule las ventas mensuales utilizando variables y operadores."
      ],
      "metadata": {
        "id": "PiRcRbzOQtJ-"
      },
      "id": "PiRcRbzOQtJ-"
    },
    {
      "cell_type": "code",
      "execution_count": 9,
      "id": "8721fd18",
      "metadata": {
        "id": "8721fd18"
      },
      "outputs": [],
      "source": [
        "# No resuelto"
      ]
    },
    {
      "cell_type": "markdown",
      "source": [
        "##3) Estructuras de Datos: Desarrollar un programa que almacene los datos de ventas (producto, precio, cantidad). Decidir si conviene utilizar diccionarios o listas."
      ],
      "metadata": {
        "id": "tOj82P1EQt4M"
      },
      "id": "tOj82P1EQt4M"
    },
    {
      "cell_type": "code",
      "source": [
        "#No resuelto"
      ],
      "metadata": {
        "id": "1j--_yNYQuNO"
      },
      "id": "1j--_yNYQuNO",
      "execution_count": 10,
      "outputs": []
    },
    {
      "cell_type": "markdown",
      "source": [
        "##4) Introducción a Pandas: realizar un análisis exploratorio inicial de los DataFrames."
      ],
      "metadata": {
        "id": "XGzEgUFmQb-0"
      },
      "id": "XGzEgUFmQb-0"
    },
    {
      "cell_type": "code",
      "source": [
        "#analizamos marketing\n",
        "print(df_marketing.shape)\n",
        "print(df_marketing.columns)\n",
        "print(df_marketing.dtypes)\n",
        "print(df_marketing.isna().sum())\n",
        "print(df_marketing.describe(include='number'))"
      ],
      "metadata": {
        "colab": {
          "base_uri": "https://localhost:8080/"
        },
        "id": "fQ7styhpdUuI",
        "outputId": "d3c97740-3caf-4a75-9fe7-5101ab12363b"
      },
      "id": "fQ7styhpdUuI",
      "execution_count": 11,
      "outputs": [
        {
          "output_type": "stream",
          "name": "stdout",
          "text": [
            "(90, 6)\n",
            "Index(['id_campanha', 'producto', 'canal', 'costo', 'fecha_inicio',\n",
            "       'fecha_fin'],\n",
            "      dtype='object')\n",
            "id_campanha       int64\n",
            "producto         object\n",
            "canal            object\n",
            "costo           float64\n",
            "fecha_inicio     object\n",
            "fecha_fin        object\n",
            "dtype: object\n",
            "id_campanha     0\n",
            "producto        0\n",
            "canal           0\n",
            "costo           0\n",
            "fecha_inicio    0\n",
            "fecha_fin       0\n",
            "dtype: int64\n",
            "       id_campanha      costo\n",
            "count    90.000000  90.000000\n",
            "mean     45.500000   4.928667\n",
            "std      26.124701   0.947750\n",
            "min       1.000000   2.950000\n",
            "25%      23.250000   4.372500\n",
            "50%      45.500000   4.900000\n",
            "75%      67.750000   5.562500\n",
            "max      90.000000   7.390000\n"
          ]
        }
      ]
    },
    {
      "cell_type": "code",
      "source": [
        "#analizamos clientes\n",
        "print(df_clientes.shape)\n",
        "print(df_clientes.columns)\n",
        "print(df_clientes.dtypes)\n",
        "print(df_clientes.isna().sum())\n",
        "print(df_clientes.describe(include='number'))"
      ],
      "metadata": {
        "colab": {
          "base_uri": "https://localhost:8080/"
        },
        "id": "CEY8jrVhdWYG",
        "outputId": "9c161598-bbc7-4a78-9b09-1de15a1c9732"
      },
      "id": "CEY8jrVhdWYG",
      "execution_count": 12,
      "outputs": [
        {
          "output_type": "stream",
          "name": "stdout",
          "text": [
            "(567, 5)\n",
            "Index(['id_cliente', 'nombre', 'edad', 'ciudad', 'ingresos'], dtype='object')\n",
            "id_cliente      int64\n",
            "nombre         object\n",
            "edad            int64\n",
            "ciudad         object\n",
            "ingresos      float64\n",
            "dtype: object\n",
            "id_cliente    0\n",
            "nombre        0\n",
            "edad          0\n",
            "ciudad        0\n",
            "ingresos      0\n",
            "dtype: int64\n",
            "       id_cliente        edad      ingresos\n",
            "count  567.000000  567.000000    567.000000\n",
            "mean   284.000000   37.940035  34668.739012\n",
            "std    163.823075   10.202885  12974.531446\n",
            "min      1.000000   20.000000    170.290000\n",
            "25%    142.500000   30.000000  26015.240000\n",
            "50%    284.000000   37.000000  35066.830000\n",
            "75%    425.500000   43.000000  42457.100000\n",
            "max    567.000000   81.000000  88053.010000\n"
          ]
        }
      ]
    },
    {
      "cell_type": "code",
      "source": [
        "#analizamos ventas\n",
        "print(df_ventas.shape)\n",
        "print(df_ventas.columns)\n",
        "print(df_ventas.dtypes)\n",
        "print(df_ventas.isna().sum())\n",
        "print(df_ventas.describe(include='number'))"
      ],
      "metadata": {
        "colab": {
          "base_uri": "https://localhost:8080/"
        },
        "id": "B9B0ITjWZ8Vn",
        "outputId": "8440ff9a-bbe1-4102-9115-c939c1bf95e6"
      },
      "id": "B9B0ITjWZ8Vn",
      "execution_count": 13,
      "outputs": [
        {
          "output_type": "stream",
          "name": "stdout",
          "text": [
            "(3035, 6)\n",
            "Index(['id_venta', 'producto', 'precio', 'cantidad', 'fecha_venta',\n",
            "       'categoria'],\n",
            "      dtype='object')\n",
            "id_venta         int64\n",
            "producto        object\n",
            "precio          object\n",
            "cantidad       float64\n",
            "fecha_venta     object\n",
            "categoria       object\n",
            "dtype: object\n",
            "id_venta       0\n",
            "producto       0\n",
            "precio         2\n",
            "cantidad       2\n",
            "fecha_venta    0\n",
            "categoria      0\n",
            "dtype: int64\n",
            "          id_venta     cantidad\n",
            "count  3035.000000  3033.000000\n",
            "mean   1499.851400     6.496538\n",
            "std     866.465379     3.457250\n",
            "min       1.000000     1.000000\n",
            "25%     748.500000     3.000000\n",
            "50%    1502.000000     7.000000\n",
            "75%    2249.500000     9.000000\n",
            "max    3000.000000    12.000000\n"
          ]
        }
      ]
    },
    {
      "cell_type": "markdown",
      "source": [
        "También podemos hacerlo definiendo una función como vimos en clase. Recurri a la ayuda de pre entrega para hacerla. :"
      ],
      "metadata": {
        "id": "idhp1DLseI_F"
      },
      "id": "idhp1DLseI_F"
    },
    {
      "cell_type": "code",
      "source": [
        "def exploracion(df, nombre):\n",
        "    print(f\"=== {nombre} ===\")\n",
        "    print(\"shape:\", df.shape)\n",
        "    print(\"columnas:\", list(df.columns))\n",
        "    print(\"dtypes:\")\n",
        "    print(df.dtypes)\n",
        "    print(\"\\nNulos por columna:\")\n",
        "    print(df.isna().sum())\n",
        "    print(\"\\nPrimeras filas:\")\n",
        "    print(df.head(5))\n",
        "    print(\"\\nDescribe (numérico):\")\n",
        "    print(df.describe(include='number'))"
      ],
      "metadata": {
        "id": "ezmZo14Ph0IN"
      },
      "id": "ezmZo14Ph0IN",
      "execution_count": 14,
      "outputs": []
    },
    {
      "cell_type": "code",
      "source": [
        "exploracion(df_marketing, \"marketing\")\n"
      ],
      "metadata": {
        "colab": {
          "base_uri": "https://localhost:8080/"
        },
        "id": "yXITb--xiYo4",
        "outputId": "d36c7312-221b-41ac-b4fc-4ef74b80f756"
      },
      "id": "yXITb--xiYo4",
      "execution_count": 15,
      "outputs": [
        {
          "output_type": "stream",
          "name": "stdout",
          "text": [
            "=== marketing ===\n",
            "shape: (90, 6)\n",
            "columnas: ['id_campanha', 'producto', 'canal', 'costo', 'fecha_inicio', 'fecha_fin']\n",
            "dtypes:\n",
            "id_campanha       int64\n",
            "producto         object\n",
            "canal            object\n",
            "costo           float64\n",
            "fecha_inicio     object\n",
            "fecha_fin        object\n",
            "dtype: object\n",
            "\n",
            "Nulos por columna:\n",
            "id_campanha     0\n",
            "producto        0\n",
            "canal           0\n",
            "costo           0\n",
            "fecha_inicio    0\n",
            "fecha_fin       0\n",
            "dtype: int64\n",
            "\n",
            "Primeras filas:\n",
            "   id_campanha         producto  canal  costo fecha_inicio   fecha_fin\n",
            "0           74  Adorno de pared     TV   4.81   20/03/2024  03/05/2024\n",
            "1           12           Tablet   RRSS   3.40   26/03/2024  13/05/2024\n",
            "2           32  Lámpara de mesa  Email   5.54   28/03/2024  20/04/2024\n",
            "3           21       Smartphone   RRSS   6.37   29/03/2024  16/05/2024\n",
            "4           58         Alfombra  Email   4.25   31/03/2024  05/05/2024\n",
            "\n",
            "Describe (numérico):\n",
            "       id_campanha      costo\n",
            "count    90.000000  90.000000\n",
            "mean     45.500000   4.928667\n",
            "std      26.124701   0.947750\n",
            "min       1.000000   2.950000\n",
            "25%      23.250000   4.372500\n",
            "50%      45.500000   4.900000\n",
            "75%      67.750000   5.562500\n",
            "max      90.000000   7.390000\n"
          ]
        }
      ]
    },
    {
      "cell_type": "code",
      "source": [
        "exploracion(df_clientes, \"clientes\")"
      ],
      "metadata": {
        "colab": {
          "base_uri": "https://localhost:8080/"
        },
        "id": "yRC8ecvLizt9",
        "outputId": "ba315aee-836e-482b-d430-af27b45838cb"
      },
      "id": "yRC8ecvLizt9",
      "execution_count": 16,
      "outputs": [
        {
          "output_type": "stream",
          "name": "stdout",
          "text": [
            "=== clientes ===\n",
            "shape: (567, 5)\n",
            "columnas: ['id_cliente', 'nombre', 'edad', 'ciudad', 'ingresos']\n",
            "dtypes:\n",
            "id_cliente      int64\n",
            "nombre         object\n",
            "edad            int64\n",
            "ciudad         object\n",
            "ingresos      float64\n",
            "dtype: object\n",
            "\n",
            "Nulos por columna:\n",
            "id_cliente    0\n",
            "nombre        0\n",
            "edad          0\n",
            "ciudad        0\n",
            "ingresos      0\n",
            "dtype: int64\n",
            "\n",
            "Primeras filas:\n",
            "   id_cliente               nombre  edad         ciudad  ingresos\n",
            "0           1      Aloysia Screase    44  Mar del Plata  42294.68\n",
            "1           2  Kristina Scaplehorn    25        Posadas  24735.04\n",
            "2           3       Filip Castagne    50    Resistencia  35744.85\n",
            "3           4          Liuka Luard    39   Bahía Blanca  27647.96\n",
            "4           5        Dore Cockshtt    28        Rosario  28245.65\n",
            "\n",
            "Describe (numérico):\n",
            "       id_cliente        edad      ingresos\n",
            "count  567.000000  567.000000    567.000000\n",
            "mean   284.000000   37.940035  34668.739012\n",
            "std    163.823075   10.202885  12974.531446\n",
            "min      1.000000   20.000000    170.290000\n",
            "25%    142.500000   30.000000  26015.240000\n",
            "50%    284.000000   37.000000  35066.830000\n",
            "75%    425.500000   43.000000  42457.100000\n",
            "max    567.000000   81.000000  88053.010000\n"
          ]
        }
      ]
    },
    {
      "cell_type": "code",
      "source": [
        "exploracion(df_ventas, \"ventas\")"
      ],
      "metadata": {
        "colab": {
          "base_uri": "https://localhost:8080/"
        },
        "id": "GMEHL2Tni0eQ",
        "outputId": "d3230a62-b146-4c0f-a534-d04e16d4e6c9"
      },
      "id": "GMEHL2Tni0eQ",
      "execution_count": 17,
      "outputs": [
        {
          "output_type": "stream",
          "name": "stdout",
          "text": [
            "=== ventas ===\n",
            "shape: (3035, 6)\n",
            "columnas: ['id_venta', 'producto', 'precio', 'cantidad', 'fecha_venta', 'categoria']\n",
            "dtypes:\n",
            "id_venta         int64\n",
            "producto        object\n",
            "precio          object\n",
            "cantidad       float64\n",
            "fecha_venta     object\n",
            "categoria       object\n",
            "dtype: object\n",
            "\n",
            "Nulos por columna:\n",
            "id_venta       0\n",
            "producto       0\n",
            "precio         2\n",
            "cantidad       2\n",
            "fecha_venta    0\n",
            "categoria      0\n",
            "dtype: int64\n",
            "\n",
            "Primeras filas:\n",
            "   id_venta           producto   precio  cantidad fecha_venta  \\\n",
            "0       792  Cuadro decorativo   $69.94       5.0  02/01/2024   \n",
            "1       811    Lámpara de mesa  $105.10       5.0  02/01/2024   \n",
            "2      1156           Secadora   $97.96       3.0  02/01/2024   \n",
            "3      1372           Heladera  $114.35       8.0  02/01/2024   \n",
            "4      1546           Secadora  $106.21       4.0  02/01/2024   \n",
            "\n",
            "           categoria  \n",
            "0         Decoración  \n",
            "1         Decoración  \n",
            "2  Electrodomésticos  \n",
            "3  Electrodomésticos  \n",
            "4  Electrodomésticos  \n",
            "\n",
            "Describe (numérico):\n",
            "          id_venta     cantidad\n",
            "count  3035.000000  3033.000000\n",
            "mean   1499.851400     6.496538\n",
            "std     866.465379     3.457250\n",
            "min       1.000000     1.000000\n",
            "25%     748.500000     3.000000\n",
            "50%    1502.000000     7.000000\n",
            "75%    2249.500000     9.000000\n",
            "max    3000.000000    12.000000\n"
          ]
        }
      ]
    },
    {
      "cell_type": "markdown",
      "id": "3dfc633c",
      "metadata": {
        "id": "3dfc633c"
      },
      "source": [
        "### 5) Calidad de Datos: Identificar valores nulos y duplicados en los conjuntos de datos. Documentar el estado inicial de los datos."
      ]
    },
    {
      "cell_type": "code",
      "execution_count": 18,
      "id": "c10b4a88",
      "metadata": {
        "id": "c10b4a88"
      },
      "outputs": [],
      "source": [
        "#Hacemos una función para evaluar valores nulos  duplicados\n",
        "\n",
        "def nulos_y_duplicados(df, nombre, clave=None):\n",
        "    \"\"\"\n",
        "    Analiza la calidad del DataFrame:\n",
        "      - Muestra cantidad de nulos por columna.\n",
        "      - Cuenta filas duplicadas completas.\n",
        "      - Si se indica una clave, muestra los valores duplicados más frecuentes.\n",
        "    Parámetros:\n",
        "      df: DataFrame de pandas que se analizará.\n",
        "      nombre: texto descriptivo del DataFrame (ejemplo: 'VENTAS').\n",
        "      clave: (opcional) nombre de la columna para buscar duplicados específicos.\n",
        "    \"\"\"\n",
        "    print(nombre)\n",
        "    print(df.isna().sum().to_frame(\"nulos\"))\n",
        "    filas_duplicadas = df.duplicated(keep=False).sum()\n",
        "    print(\"\\n Filas duplicadas (exactas):\", filas_duplicadas)\n",
        "\n",
        "    if clave and clave in df.columns:\n",
        "        claves_duplicadas = df[clave].duplicated(keep=False).sum()\n",
        "        print(f\"\\n Duplicados por clave '{clave}':\", claves_duplicadas)\n",
        "\n",
        "        if claves_duplicadas > 0:\n",
        "            duplicados_ordenados = (\n",
        "                df[df[clave].duplicated(keep=False)][clave]\n",
        "                .value_counts()\n",
        "                .sort_values(ascending=False)\n",
        "            )\n",
        "\n",
        "            print(\"\\n Duplicados más frecuentes:\")\n",
        "            print(duplicados_ordenados.head(10))\n",
        "        else:\n",
        "            print(f\"\\n No se encontraron duplicados en '{clave}'.\")\n",
        "    else:\n",
        "        if clave:\n",
        "            print(f\"'{clave}' no existe en el DF.\")\n",
        "        else:\n",
        "            print(\"No se indicó una clave para analizar duplicados por columna.\")\n"
      ]
    },
    {
      "cell_type": "code",
      "source": [
        "nulos_y_duplicados(df_ventas, \"Ventas\", clave=\"id_venta\")"
      ],
      "metadata": {
        "colab": {
          "base_uri": "https://localhost:8080/"
        },
        "id": "5dWusJh-k2vg",
        "outputId": "9a823896-1df4-4c65-bc63-3bd462fa74ae"
      },
      "id": "5dWusJh-k2vg",
      "execution_count": 19,
      "outputs": [
        {
          "output_type": "stream",
          "name": "stdout",
          "text": [
            "Ventas\n",
            "             nulos\n",
            "id_venta         0\n",
            "producto         0\n",
            "precio           2\n",
            "cantidad         2\n",
            "fecha_venta      0\n",
            "categoria        0\n",
            "\n",
            " Filas duplicadas (exactas): 70\n",
            "\n",
            " Duplicados por clave 'id_venta': 70\n",
            "\n",
            " Duplicados más frecuentes:\n",
            "id_venta\n",
            "56      2\n",
            "421     2\n",
            "424     2\n",
            "1868    2\n",
            "2545    2\n",
            "2778    2\n",
            "145     2\n",
            "300     2\n",
            "439     2\n",
            "906     2\n",
            "Name: count, dtype: int64\n"
          ]
        }
      ]
    },
    {
      "cell_type": "code",
      "source": [
        "nulos_y_duplicados(df_marketing, \"marketing\", clave=\"id_campanha\")"
      ],
      "metadata": {
        "colab": {
          "base_uri": "https://localhost:8080/"
        },
        "id": "ejzcnx8SO6ws",
        "outputId": "ccc4bcff-a4ea-4b86-e39f-5a5a7195ad4d"
      },
      "id": "ejzcnx8SO6ws",
      "execution_count": 20,
      "outputs": [
        {
          "output_type": "stream",
          "name": "stdout",
          "text": [
            "marketing\n",
            "              nulos\n",
            "id_campanha       0\n",
            "producto          0\n",
            "canal             0\n",
            "costo             0\n",
            "fecha_inicio      0\n",
            "fecha_fin         0\n",
            "\n",
            " Filas duplicadas (exactas): 0\n",
            "\n",
            " Duplicados por clave 'id_campanha': 0\n",
            "\n",
            " No se encontraron duplicados en 'id_campanha'.\n"
          ]
        }
      ]
    },
    {
      "cell_type": "code",
      "source": [
        "nulos_y_duplicados(df_clientes, \"Cliente\", clave=\"id_cliente\")"
      ],
      "metadata": {
        "colab": {
          "base_uri": "https://localhost:8080/"
        },
        "id": "aJr9CxlcQRbE",
        "outputId": "fc9e2357-71ed-4192-fa0c-a8a1fbd6dda6"
      },
      "id": "aJr9CxlcQRbE",
      "execution_count": 21,
      "outputs": [
        {
          "output_type": "stream",
          "name": "stdout",
          "text": [
            "Cliente\n",
            "            nulos\n",
            "id_cliente      0\n",
            "nombre          0\n",
            "edad            0\n",
            "ciudad          0\n",
            "ingresos        0\n",
            "\n",
            " Filas duplicadas (exactas): 0\n",
            "\n",
            " Duplicados por clave 'id_cliente': 0\n",
            "\n",
            " No se encontraron duplicados en 'id_cliente'.\n"
          ]
        }
      ]
    },
    {
      "cell_type": "markdown",
      "id": "6df40e84",
      "metadata": {
        "id": "6df40e84"
      },
      "source": [
        "## Etapa 2: Preprocesamiento y Limpieza de Datos (Clases 5 a 8)\n",
        "Objetivo: Demostrar conocimiento de las técnicas de limpieza y transformación de\n",
        "datos.\n",
        "Actividades:\n",
        "1. Limpieza de Datos: Limpiar el conjunto de datos eliminando duplicados y\n",
        "caracteres no deseados. Documentar el proceso y los resultados.\n",
        "2. Transformación de Datos: Aplicar filtros y transformaciones para crear una\n",
        "tabla de ventas que muestre solo los productos con alto rendimiento.\n",
        "3. Agregación: Resumir las ventas por categoría de producto y analizar los\n",
        "ingresos generados.\n",
        "4. Integración de Datos: Combinar los sets de datos de ventas y marketing\n",
        "para obtener una visión más amplia de las tendencias.\n"
      ]
    },
    {
      "cell_type": "markdown",
      "id": "d824f905",
      "metadata": {
        "id": "d824f905"
      },
      "source": [
        "### 1) Limpieza de Datos: Limpiar el conjunto de datos eliminando duplicados y caracteres no deseados. Documentar el proceso y los resultados."
      ]
    },
    {
      "cell_type": "markdown",
      "source": [
        "Del análisis obtuvimos que el df de ventas tiene nulos y duplicados. Vamos a trabajar sobbre el mismo, primero creando una copia para no perder el df original\n"
      ],
      "metadata": {
        "id": "9OspaHCJSTUc"
      },
      "id": "9OspaHCJSTUc"
    },
    {
      "cell_type": "code",
      "source": [
        "ventas_limpio = df_ventas.copy()"
      ],
      "metadata": {
        "id": "SkoiANHDSS59"
      },
      "id": "SkoiANHDSS59",
      "execution_count": 22,
      "outputs": []
    },
    {
      "cell_type": "markdown",
      "source": [
        "Ahora si, eliminamos duplciados"
      ],
      "metadata": {
        "id": "sKO6ndBYTg47"
      },
      "id": "sKO6ndBYTg47"
    },
    {
      "cell_type": "code",
      "execution_count": 23,
      "id": "31a4417f",
      "metadata": {
        "id": "31a4417f"
      },
      "outputs": [],
      "source": [
        "ventas_limpio = df_ventas.drop_duplicates()\n"
      ]
    },
    {
      "cell_type": "code",
      "source": [
        "nulos_y_duplicados(ventas_limpio, \"Ventas\", clave=\"id_venta\")"
      ],
      "metadata": {
        "colab": {
          "base_uri": "https://localhost:8080/"
        },
        "id": "wMLGR42eTwZJ",
        "outputId": "c2221dfd-d6f5-4e3e-ab69-32058d1b0f8f"
      },
      "id": "wMLGR42eTwZJ",
      "execution_count": 24,
      "outputs": [
        {
          "output_type": "stream",
          "name": "stdout",
          "text": [
            "Ventas\n",
            "             nulos\n",
            "id_venta         0\n",
            "producto         0\n",
            "precio           2\n",
            "cantidad         2\n",
            "fecha_venta      0\n",
            "categoria        0\n",
            "\n",
            " Filas duplicadas (exactas): 0\n",
            "\n",
            " Duplicados por clave 'id_venta': 0\n",
            "\n",
            " No se encontraron duplicados en 'id_venta'.\n"
          ]
        }
      ]
    },
    {
      "cell_type": "markdown",
      "source": [
        "Vemos que ya no tiene duplicados\n"
      ],
      "metadata": {
        "id": "wnCuy3_BWj8G"
      },
      "id": "wnCuy3_BWj8G"
    },
    {
      "cell_type": "code",
      "source": [
        "nulos_y_duplicados(ventas_limpio, \"Ventas\", clave=\"id_venta\")"
      ],
      "metadata": {
        "colab": {
          "base_uri": "https://localhost:8080/"
        },
        "id": "Gb-m50s0afQU",
        "outputId": "82cece97-ad96-4c81-a136-08c70c421fa6"
      },
      "id": "Gb-m50s0afQU",
      "execution_count": 25,
      "outputs": [
        {
          "output_type": "stream",
          "name": "stdout",
          "text": [
            "Ventas\n",
            "             nulos\n",
            "id_venta         0\n",
            "producto         0\n",
            "precio           2\n",
            "cantidad         2\n",
            "fecha_venta      0\n",
            "categoria        0\n",
            "\n",
            " Filas duplicadas (exactas): 0\n",
            "\n",
            " Duplicados por clave 'id_venta': 0\n",
            "\n",
            " No se encontraron duplicados en 'id_venta'.\n"
          ]
        }
      ]
    },
    {
      "cell_type": "markdown",
      "source": [
        "Teniendo en cuenta que las 2 ventas convalores nulos no nos sirven ya que no tenemos precio ni cantidad, las eliminamos."
      ],
      "metadata": {
        "id": "vuO416lfaRnx"
      },
      "id": "vuO416lfaRnx"
    },
    {
      "cell_type": "code",
      "source": [
        "ventas_limpio = ventas_limpio.dropna()"
      ],
      "metadata": {
        "id": "Eyp_malNaQ8S"
      },
      "id": "Eyp_malNaQ8S",
      "execution_count": 26,
      "outputs": []
    },
    {
      "cell_type": "code",
      "source": [
        "nulos_y_duplicados(ventas_limpio, \"Ventas\", clave=\"id_venta\")"
      ],
      "metadata": {
        "colab": {
          "base_uri": "https://localhost:8080/"
        },
        "id": "IzEou0T1aprK",
        "outputId": "844dae21-832b-4fe4-dcac-d1e3e6ffb5c0"
      },
      "id": "IzEou0T1aprK",
      "execution_count": 27,
      "outputs": [
        {
          "output_type": "stream",
          "name": "stdout",
          "text": [
            "Ventas\n",
            "             nulos\n",
            "id_venta         0\n",
            "producto         0\n",
            "precio           0\n",
            "cantidad         0\n",
            "fecha_venta      0\n",
            "categoria        0\n",
            "\n",
            " Filas duplicadas (exactas): 0\n",
            "\n",
            " Duplicados por clave 'id_venta': 0\n",
            "\n",
            " No se encontraron duplicados en 'id_venta'.\n"
          ]
        }
      ]
    },
    {
      "cell_type": "markdown",
      "source": [
        "Ahora si, el df esta sin nulos ni duplicados"
      ],
      "metadata": {
        "id": "18qCptjnbtmi"
      },
      "id": "18qCptjnbtmi"
    },
    {
      "cell_type": "markdown",
      "id": "8922107d",
      "metadata": {
        "id": "8922107d"
      },
      "source": [
        "###2) Transformación de Datos: Aplicar filtros y transformaciones para crear una tabla de ventas que muestre solo los productos con alto rendimiento."
      ]
    },
    {
      "cell_type": "markdown",
      "source": [
        "C\n",
        "reamos también copia de markeing y de clientes para no perder el df original"
      ],
      "metadata": {
        "id": "RzvPk1JtdHwU"
      },
      "id": "RzvPk1JtdHwU"
    },
    {
      "cell_type": "code",
      "source": [
        "marketing_limpio = df_marketing.copy()\n",
        "clientes_limpio= df_clientes.copy()"
      ],
      "metadata": {
        "id": "IchkcVxUc5hA"
      },
      "id": "IchkcVxUc5hA",
      "execution_count": 28,
      "outputs": []
    },
    {
      "cell_type": "markdown",
      "source": [
        "convertimos texto en str"
      ],
      "metadata": {
        "id": "Mj7-W6NneZAG"
      },
      "id": "Mj7-W6NneZAG"
    },
    {
      "cell_type": "code",
      "execution_count": 29,
      "id": "422b99c6",
      "metadata": {
        "id": "422b99c6"
      },
      "outputs": [],
      "source": [
        "def normalizar_texto(df):\n",
        "    for col in df.select_dtypes(include=\"object\").columns:\n",
        "        df[col] = (\n",
        "            df[col]\n",
        "            .astype(str)\n",
        "            .str.strip()\n",
        "            .str.replace(r\"[\\u200b\\t\\r\\n]\", \"\", regex=True)\n",
        "            .str.replace(\" +\", \" \", regex=True)\n",
        "            .str.title()\n",
        "        )\n",
        "    return df"
      ]
    },
    {
      "cell_type": "markdown",
      "source": [
        "Normalizamos texto en los DF"
      ],
      "metadata": {
        "id": "xnp5ZFBujJYy"
      },
      "id": "xnp5ZFBujJYy"
    },
    {
      "cell_type": "code",
      "source": [
        "marketing_limpio = normalizar_texto(marketing_limpio)\n",
        "clientes_limpio = normalizar_texto(clientes_limpio)\n",
        "ventas_limpio = normalizar_texto(ventas_limpio)"
      ],
      "metadata": {
        "id": "O63Nwa_IfVSM"
      },
      "id": "O63Nwa_IfVSM",
      "execution_count": 30,
      "outputs": []
    },
    {
      "cell_type": "markdown",
      "source": [
        "Chequeamos que queden bien"
      ],
      "metadata": {
        "id": "uSiUWVsnfenr"
      },
      "id": "uSiUWVsnfenr"
    },
    {
      "cell_type": "code",
      "source": [
        "print(ventas_limpio.head())\n",
        "print(clientes_limpio.head())\n",
        "print(marketing_limpio.head())"
      ],
      "metadata": {
        "colab": {
          "base_uri": "https://localhost:8080/"
        },
        "id": "-ocIRXUikdx5",
        "outputId": "5e11d1ca-c030-4bed-d8c9-fdbf7e6045ed"
      },
      "id": "-ocIRXUikdx5",
      "execution_count": 31,
      "outputs": [
        {
          "output_type": "stream",
          "name": "stdout",
          "text": [
            "   id_venta           producto   precio  cantidad fecha_venta  \\\n",
            "0       792  Cuadro Decorativo   $69.94       5.0  02/01/2024   \n",
            "1       811    Lámpara De Mesa  $105.10       5.0  02/01/2024   \n",
            "2      1156           Secadora   $97.96       3.0  02/01/2024   \n",
            "3      1372           Heladera  $114.35       8.0  02/01/2024   \n",
            "4      1546           Secadora  $106.21       4.0  02/01/2024   \n",
            "\n",
            "           categoria  \n",
            "0         Decoración  \n",
            "1         Decoración  \n",
            "2  Electrodomésticos  \n",
            "3  Electrodomésticos  \n",
            "4  Electrodomésticos  \n",
            "   id_cliente               nombre  edad         ciudad  ingresos\n",
            "0           1      Aloysia Screase    44  Mar Del Plata  42294.68\n",
            "1           2  Kristina Scaplehorn    25        Posadas  24735.04\n",
            "2           3       Filip Castagne    50    Resistencia  35744.85\n",
            "3           4          Liuka Luard    39   Bahía Blanca  27647.96\n",
            "4           5        Dore Cockshtt    28        Rosario  28245.65\n",
            "   id_campanha         producto  canal  costo fecha_inicio   fecha_fin\n",
            "0           74  Adorno De Pared     Tv   4.81   20/03/2024  03/05/2024\n",
            "1           12           Tablet   Rrss   3.40   26/03/2024  13/05/2024\n",
            "2           32  Lámpara De Mesa  Email   5.54   28/03/2024  20/04/2024\n",
            "3           21       Smartphone   Rrss   6.37   29/03/2024  16/05/2024\n",
            "4           58         Alfombra  Email   4.25   31/03/2024  05/05/2024\n"
          ]
        }
      ]
    },
    {
      "cell_type": "markdown",
      "source": [
        "Normalizamos fechas para los  df q las tengan, este caso solo ventas y marketing contienee fechas"
      ],
      "metadata": {
        "id": "MerAMc0tg_ue"
      },
      "id": "MerAMc0tg_ue"
    },
    {
      "cell_type": "code",
      "source": [
        "for df in [ventas_limpio, marketing_limpio]:\n",
        "    for col in df.columns:\n",
        "        if \"fecha\" in col.lower():\n",
        "            df[col] = pd.to_datetime(df[col], errors=\"coerce\", dayfirst=True)"
      ],
      "metadata": {
        "id": "AeSt1Xy0g_SA"
      },
      "id": "AeSt1Xy0g_SA",
      "execution_count": 32,
      "outputs": []
    },
    {
      "cell_type": "markdown",
      "source": [
        "Chequeamos que queden bien"
      ],
      "metadata": {
        "id": "hbd4v2JDfjuD"
      },
      "id": "hbd4v2JDfjuD"
    },
    {
      "cell_type": "code",
      "source": [
        "print(marketing_limpio.dtypes)\n",
        "print(ventas_limpio.dtypes)"
      ],
      "metadata": {
        "colab": {
          "base_uri": "https://localhost:8080/"
        },
        "id": "FJBI335Oh9-d",
        "outputId": "a82b427f-66d0-4ed9-fc09-586ab31b01b7"
      },
      "id": "FJBI335Oh9-d",
      "execution_count": 33,
      "outputs": [
        {
          "output_type": "stream",
          "name": "stdout",
          "text": [
            "id_campanha              int64\n",
            "producto                object\n",
            "canal                   object\n",
            "costo                  float64\n",
            "fecha_inicio    datetime64[ns]\n",
            "fecha_fin       datetime64[ns]\n",
            "dtype: object\n",
            "id_venta                int64\n",
            "producto               object\n",
            "precio                 object\n",
            "cantidad              float64\n",
            "fecha_venta    datetime64[ns]\n",
            "categoria              object\n",
            "dtype: object\n"
          ]
        }
      ]
    },
    {
      "cell_type": "markdown",
      "source": [
        "vemos como las fechas cambiaron de  object a datetime64[ns]"
      ],
      "metadata": {
        "id": "oAiGDUGKinp2"
      },
      "id": "oAiGDUGKinp2"
    },
    {
      "cell_type": "markdown",
      "source": [
        "Ahora normalizamos los números, en este caso vemos que precio esta considerado object cuando deberia ser float"
      ],
      "metadata": {
        "id": "8ITOuJ6cgFxb"
      },
      "id": "8ITOuJ6cgFxb"
    },
    {
      "cell_type": "code",
      "source": [
        "if \"precio\" in ventas_limpio.columns:\n",
        "    ventas_limpio[\"precio\"] = (\n",
        "        ventas_limpio[\"precio\"]\n",
        "        .astype(str)\n",
        "        .str.replace(\"$\", \"\", regex=False)\n",
        "        .str.replace(\",\", \"\", regex=False)\n",
        "        .str.strip()\n",
        "    )\n",
        "    ventas_limpio[\"precio\"] = pd.to_numeric(ventas_limpio[\"precio\"], errors=\"coerce\")"
      ],
      "metadata": {
        "id": "G5uZcC5mgKgw"
      },
      "id": "G5uZcC5mgKgw",
      "execution_count": 34,
      "outputs": []
    },
    {
      "cell_type": "markdown",
      "source": [
        "Chequeamos que  precio sea float"
      ],
      "metadata": {
        "id": "L00YdGtfhZcZ"
      },
      "id": "L00YdGtfhZcZ"
    },
    {
      "cell_type": "code",
      "source": [
        "print(ventas_limpio.dtypes)"
      ],
      "metadata": {
        "colab": {
          "base_uri": "https://localhost:8080/"
        },
        "id": "LHkYUKwuguWz",
        "outputId": "7c94673f-71c0-41b8-9198-3d6abd41a0ca"
      },
      "id": "LHkYUKwuguWz",
      "execution_count": 35,
      "outputs": [
        {
          "output_type": "stream",
          "name": "stdout",
          "text": [
            "id_venta                int64\n",
            "producto               object\n",
            "precio                float64\n",
            "cantidad              float64\n",
            "fecha_venta    datetime64[ns]\n",
            "categoria              object\n",
            "dtype: object\n"
          ]
        }
      ]
    },
    {
      "cell_type": "markdown",
      "source": [
        "Ahora tenemos Cantidad, que esta como float cuando deberia ser un entero. Normalizamos"
      ],
      "metadata": {
        "id": "2qISGhRDmait"
      },
      "id": "2qISGhRDmait"
    },
    {
      "cell_type": "code",
      "source": [
        "if \"cantidad\" in ventas_limpio.columns:\n",
        "    ventas_limpio[\"cantidad\"] = pd.to_numeric(\n",
        "        ventas_limpio[\"cantidad\"], errors=\"coerce\"\n",
        "    ).astype(\"Int64\")"
      ],
      "metadata": {
        "id": "u3ZDMiDNmfx8"
      },
      "id": "u3ZDMiDNmfx8",
      "execution_count": 36,
      "outputs": []
    },
    {
      "cell_type": "code",
      "source": [
        "print(ventas_limpio.dtypes)"
      ],
      "metadata": {
        "colab": {
          "base_uri": "https://localhost:8080/"
        },
        "id": "QKpRupR8muHE",
        "outputId": "973841e1-208b-4ecc-d65a-c50a9da3e3d6"
      },
      "id": "QKpRupR8muHE",
      "execution_count": 37,
      "outputs": [
        {
          "output_type": "stream",
          "name": "stdout",
          "text": [
            "id_venta                int64\n",
            "producto               object\n",
            "precio                float64\n",
            "cantidad                Int64\n",
            "fecha_venta    datetime64[ns]\n",
            "categoria              object\n",
            "dtype: object\n"
          ]
        }
      ]
    },
    {
      "cell_type": "markdown",
      "source": [
        "Guardamos los archivos limpios"
      ],
      "metadata": {
        "id": "lUey6BGhnM6C"
      },
      "id": "lUey6BGhnM6C"
    },
    {
      "cell_type": "code",
      "source": [
        "ventas_limpio.to_csv(\"/content/drive/MyDrive/datasets/ventas_limpio.csv\", index=False)\n",
        "clientes_limpio.to_csv(\"/content/drive/MyDrive/datasets/clientes_limpio.csv\", index=False)\n",
        "marketing_limpio.to_csv(\"/content/drive/MyDrive/datasets/marketing_limpio.csv\", index=False)\n",
        "\n",
        "print(\"Archivos guardados\")"
      ],
      "metadata": {
        "colab": {
          "base_uri": "https://localhost:8080/"
        },
        "id": "bVx_err3nMWq",
        "outputId": "7e7ba6a1-b4cf-45a2-d646-f87bfcaa5af0"
      },
      "id": "bVx_err3nMWq",
      "execution_count": 38,
      "outputs": [
        {
          "output_type": "stream",
          "name": "stdout",
          "text": [
            "Archivos guardados\n"
          ]
        }
      ]
    },
    {
      "cell_type": "markdown",
      "source": [
        "Ahora vamos a filtrar los datos para agregar por producto calcular los ingresos y detectar los de mejor desempeño (top 20% por ingreso total)"
      ],
      "metadata": {
        "id": "gjR3ZEPmo-ea"
      },
      "id": "gjR3ZEPmo-ea"
    },
    {
      "cell_type": "code",
      "source": [
        "def buscar_col(df, candidatos):\n",
        "    for c in df.columns:\n",
        "        nombre = c.lower()\n",
        "        if any(p in nombre for p in candidatos):\n",
        "            return c\n",
        "    return None\n"
      ],
      "metadata": {
        "id": "1_5_AX7cpFkx"
      },
      "id": "1_5_AX7cpFkx",
      "execution_count": 39,
      "outputs": []
    },
    {
      "cell_type": "markdown",
      "source": [
        "Lista para chequear producto:"
      ],
      "metadata": {
        "id": "_r38i1E3tbqp"
      },
      "id": "_r38i1E3tbqp"
    },
    {
      "cell_type": "code",
      "source": [
        "producto_col = buscar_col(ventas_limpio, [\"producto\", \"id_producto\", \"sku\", \"codigo\", \"articulo\", \"item\", \"referencia\", \"descripcion\"])\n",
        "print(producto_col)"
      ],
      "metadata": {
        "colab": {
          "base_uri": "https://localhost:8080/"
        },
        "id": "FEr1R5frq9cs",
        "outputId": "21c1e4e1-0a83-4bc3-e732-b366dab199b5"
      },
      "id": "FEr1R5frq9cs",
      "execution_count": 40,
      "outputs": [
        {
          "output_type": "stream",
          "name": "stdout",
          "text": [
            "producto\n"
          ]
        }
      ]
    },
    {
      "cell_type": "markdown",
      "source": [
        "Ahora calculamos el ingreso total por registro ( P x Q )"
      ],
      "metadata": {
        "id": "2wz6A2pQWtI4"
      },
      "id": "2wz6A2pQWtI4"
    },
    {
      "cell_type": "code",
      "source": [
        "ventas_reg = (\n",
        "    ventas_limpio\n",
        "    .assign(\n",
        "        ingreso = ventas_limpio[\"precio\"] * ventas_limpio[\"cantidad\"]\n",
        "    )\n",
        ")\n"
      ],
      "metadata": {
        "id": "ZSBMiiw8pIsq"
      },
      "id": "ZSBMiiw8pIsq",
      "execution_count": 60,
      "outputs": []
    },
    {
      "cell_type": "code",
      "source": [
        "print(ventas_reg.head())"
      ],
      "metadata": {
        "colab": {
          "base_uri": "https://localhost:8080/"
        },
        "id": "mpchFH3ZXJjp",
        "outputId": "3ea4d7c8-5fb2-408c-ced5-cf16be0ba73c"
      },
      "id": "mpchFH3ZXJjp",
      "execution_count": 43,
      "outputs": [
        {
          "output_type": "stream",
          "name": "stdout",
          "text": [
            "   id_venta           producto  precio  cantidad fecha_venta  \\\n",
            "0       792  Cuadro Decorativo   69.94         5  2024-01-02   \n",
            "1       811    Lámpara De Mesa  105.10         5  2024-01-02   \n",
            "2      1156           Secadora   97.96         3  2024-01-02   \n",
            "3      1372           Heladera  114.35         8  2024-01-02   \n",
            "4      1546           Secadora  106.21         4  2024-01-02   \n",
            "\n",
            "           categoria  ingreso  \n",
            "0         Decoración    349.7  \n",
            "1         Decoración    525.5  \n",
            "2  Electrodomésticos   293.88  \n",
            "3  Electrodomésticos    914.8  \n",
            "4  Electrodomésticos   424.84  \n"
          ]
        }
      ]
    },
    {
      "cell_type": "markdown",
      "source": [
        "Agregamos por producto"
      ],
      "metadata": {
        "id": "LaorOAINXULZ"
      },
      "id": "LaorOAINXULZ"
    },
    {
      "cell_type": "code",
      "source": [
        "resumen_producto = (\n",
        "    ventas_reg\n",
        "    .groupby(\n",
        "        by=producto_col,\n",
        "        as_index=False,\n",
        "    )\n",
        "    .agg(\n",
        "        ingreso_total=('ingreso', 'sum'),\n",
        "        unidades=('cantidad', 'sum'),\n",
        "        precio_promedio=('precio', 'mean'),\n",
        "        registros=('ingreso', 'size')\n",
        "    )\n",
        ")\n",
        "\n"
      ],
      "metadata": {
        "id": "aVjdVrWdXXPI"
      },
      "id": "aVjdVrWdXXPI",
      "execution_count": 61,
      "outputs": []
    },
    {
      "cell_type": "code",
      "source": [
        "print(resumen_producto.head())"
      ],
      "metadata": {
        "colab": {
          "base_uri": "https://localhost:8080/"
        },
        "id": "sOCTuwnQYAMT",
        "outputId": "38646ab3-80f7-4c1a-cc28-00a176a375ea"
      },
      "id": "sOCTuwnQYAMT",
      "execution_count": 64,
      "outputs": [
        {
          "output_type": "stream",
          "name": "stdout",
          "text": [
            "          producto  ingreso_total  unidades  precio_promedio  registros\n",
            "0  Adorno De Pared       48093.49       633        76.097800        100\n",
            "1         Alfombra       44773.06       615        74.098300        100\n",
            "2       Aspiradora       50085.86       651        77.447400        100\n",
            "3      Auriculares       74175.58       958        76.302727        143\n",
            "4         Batidora        50979.2       672        77.537200        100\n"
          ]
        }
      ]
    },
    {
      "cell_type": "markdown",
      "source": [
        "Para calcular el top 20% de ingresos por producto calculamos el percentil 80"
      ],
      "metadata": {
        "id": "6T4qIDKQY1sl"
      },
      "id": "6T4qIDKQY1sl"
    },
    {
      "cell_type": "code",
      "source": [
        "percentil80_ingreso = resumen_prod[\"ingreso_total\"].quantile(\n",
        "    q=0.80,\n",
        "    interpolation=\"nearest\"\n",
        ")"
      ],
      "metadata": {
        "id": "A3YQgHSRpO9p"
      },
      "id": "A3YQgHSRpO9p",
      "execution_count": 68,
      "outputs": []
    },
    {
      "cell_type": "code",
      "source": [
        "print(percentil80_ingreso)"
      ],
      "metadata": {
        "colab": {
          "base_uri": "https://localhost:8080/"
        },
        "id": "B_X4FybuZjNF",
        "outputId": "e403af20-8481-4583-a608-b0816bfe4d76"
      },
      "id": "B_X4FybuZjNF",
      "execution_count": 69,
      "outputs": [
        {
          "output_type": "stream",
          "name": "stdout",
          "text": [
            "52115.45\n"
          ]
        }
      ]
    },
    {
      "cell_type": "markdown",
      "source": [
        "Ahora para filtrar el top 20 la idae es quedarnos con los productos cuyos ingresos por ventas estanen el 20% mas alto"
      ],
      "metadata": {
        "id": "X-ZnNbcuZ1cd"
      },
      "id": "X-ZnNbcuZ1cd"
    },
    {
      "cell_type": "code",
      "source": [
        "ventas_top20 = (\n",
        "    resumen_producto\n",
        "    .query(\n",
        "        \"ingreso_total >= @p80_ingreso\",\n",
        "        engine=\"python\"\n",
        "    )\n",
        "    .sort_values(\n",
        "        by=[\"ingreso_total\", \"unidades\"],\n",
        "        ascending=[False, False],\n",
        "        na_position=\"last\",\n",
        "        ignore_index=True\n",
        "    )\n",
        ")"
      ],
      "metadata": {
        "id": "7W0W10TnpR-K"
      },
      "id": "7W0W10TnpR-K",
      "execution_count": 82,
      "outputs": []
    },
    {
      "cell_type": "code",
      "source": [
        "print(f\"Ingreso total del percentil 80: {float(p80_ingreso):,.2f}\")\n",
        "print(\"Productos 20% TOP por ingreso):\")\n",
        "print(ventas_top20.head(10))"
      ],
      "metadata": {
        "colab": {
          "base_uri": "https://localhost:8080/"
        },
        "id": "ICcVWG4EbCQQ",
        "outputId": "d0c6aef8-f05b-4389-9cd2-fa5bb06d7747"
      },
      "id": "ICcVWG4EbCQQ",
      "execution_count": 83,
      "outputs": [
        {
          "output_type": "stream",
          "name": "stdout",
          "text": [
            "Ingreso total del percentil 80: 52,115.45\n",
            "Productos 20% TOP por ingreso):\n",
            "            producto  ingreso_total  unidades  precio_promedio  registros\n",
            "0    Lámpara De Mesa       82276.38      1112        72.720625        176\n",
            "1        Auriculares       74175.58       958        76.302727        143\n",
            "2         Microondas       72562.89       912        79.176000        135\n",
            "3           Cafetera       59607.31       765        79.046581        117\n",
            "4  Cuadro Decorativo        54297.6       726        74.578000        100\n",
            "5         Smartphone       54132.44       665        81.398416        101\n",
            "6           Secadora       52115.45       696        73.338900        100\n"
          ]
        }
      ]
    },
    {
      "cell_type": "markdown",
      "id": "6fcd4941",
      "metadata": {
        "id": "6fcd4941"
      },
      "source": [
        "###3) Agregación: Resumir las ventas por categoría de producto y analizar los ingresos generados."
      ]
    },
    {
      "cell_type": "markdown",
      "source": [
        "Vamos a buscar columna por categoria, usamos la fundion que ya teníamos"
      ],
      "metadata": {
        "id": "Rp7S44iActR1"
      },
      "id": "Rp7S44iActR1"
    },
    {
      "cell_type": "code",
      "source": [
        "categoria_col = buscar_col(ventas_limpio, [\"categoria\", \"categoría\", \"categoria_producto\", \"rubro\"])\n",
        "print(catgoria_col)"
      ],
      "metadata": {
        "colab": {
          "base_uri": "https://localhost:8080/"
        },
        "id": "Yjk0n8kycskd",
        "outputId": "da2bf187-48e6-4b74-ded6-290cd8ffb528"
      },
      "id": "Yjk0n8kycskd",
      "execution_count": 112,
      "outputs": [
        {
          "output_type": "stream",
          "name": "stdout",
          "text": [
            "categoria\n"
          ]
        }
      ]
    },
    {
      "cell_type": "markdown",
      "source": [
        "Agrupamos por categoria"
      ],
      "metadata": {
        "id": "DtUTaHfCdQtO"
      },
      "id": "DtUTaHfCdQtO"
    },
    {
      "cell_type": "code",
      "source": [
        "resumen_cat = (\n",
        "    ventas_categoria\n",
        "    .groupby(\n",
        "        by=categoria_col,\n",
        "        as_index=False\n",
        "    )\n",
        "    .agg(\n",
        "        ingreso_total=('ingreso', 'sum'),\n",
        "        unidades=('cantidad', 'sum'),\n",
        "        ventas=('ingreso', 'size'),\n",
        "        precio_promedio=('precio', 'mean')\n",
        "    )\n",
        "    .sort_values(\n",
        "        by='ingreso_total',\n",
        "        ascending=False,\n",
        "        na_position='last',\n",
        "        ignore_index=True\n",
        "    )\n",
        ")"
      ],
      "metadata": {
        "id": "_XRiAxgedNAN"
      },
      "id": "_XRiAxgedNAN",
      "execution_count": 113,
      "outputs": []
    },
    {
      "cell_type": "markdown",
      "source": [
        "Ticket promedio por venta = ingreso_total / ventas"
      ],
      "metadata": {
        "id": "Gwz_OXMJeCp2"
      },
      "id": "Gwz_OXMJeCp2"
    },
    {
      "cell_type": "code",
      "source": [
        "resumen_cat = resumen_cat.assign(\n",
        "    ticket_promedio_por_venta = resumen_cat['ingreso_total'] / resumen_cat['ventas']\n",
        ")\n",
        "\n",
        "print(\"Categoría detectada:\", categoria_col)\n",
        "\n",
        "display(resumen_cat.head())"
      ],
      "metadata": {
        "colab": {
          "base_uri": "https://localhost:8080/",
          "height": 161
        },
        "id": "MgdMmMujdM8f",
        "outputId": "78103cb1-edd0-470e-e7c4-0f022e2d6c57"
      },
      "id": "MgdMmMujdM8f",
      "execution_count": 114,
      "outputs": [
        {
          "output_type": "stream",
          "name": "stdout",
          "text": [
            "Categoría detectada: categoria\n"
          ]
        },
        {
          "output_type": "display_data",
          "data": {
            "text/plain": [
              "           categoria  ingreso_total  unidades  ventas  precio_promedio  \\\n",
              "0  Electrodomésticos      505299.63      6592    1000         76.52096   \n",
              "1        Electrónica       482577.8      6413     998         75.25492   \n",
              "2         Decoración      479216.09      6490    1000         74.09800   \n",
              "\n",
              "   ticket_promedio_por_venta  \n",
              "0                  505.29963  \n",
              "1                  483.54489  \n",
              "2                  479.21609  "
            ],
            "text/html": [
              "\n",
              "  <div id=\"df-db64b19c-7421-4eb4-8f55-0d509c687d15\" class=\"colab-df-container\">\n",
              "    <div>\n",
              "<style scoped>\n",
              "    .dataframe tbody tr th:only-of-type {\n",
              "        vertical-align: middle;\n",
              "    }\n",
              "\n",
              "    .dataframe tbody tr th {\n",
              "        vertical-align: top;\n",
              "    }\n",
              "\n",
              "    .dataframe thead th {\n",
              "        text-align: right;\n",
              "    }\n",
              "</style>\n",
              "<table border=\"1\" class=\"dataframe\">\n",
              "  <thead>\n",
              "    <tr style=\"text-align: right;\">\n",
              "      <th></th>\n",
              "      <th>categoria</th>\n",
              "      <th>ingreso_total</th>\n",
              "      <th>unidades</th>\n",
              "      <th>ventas</th>\n",
              "      <th>precio_promedio</th>\n",
              "      <th>ticket_promedio_por_venta</th>\n",
              "    </tr>\n",
              "  </thead>\n",
              "  <tbody>\n",
              "    <tr>\n",
              "      <th>0</th>\n",
              "      <td>Electrodomésticos</td>\n",
              "      <td>505299.63</td>\n",
              "      <td>6592</td>\n",
              "      <td>1000</td>\n",
              "      <td>76.52096</td>\n",
              "      <td>505.29963</td>\n",
              "    </tr>\n",
              "    <tr>\n",
              "      <th>1</th>\n",
              "      <td>Electrónica</td>\n",
              "      <td>482577.8</td>\n",
              "      <td>6413</td>\n",
              "      <td>998</td>\n",
              "      <td>75.25492</td>\n",
              "      <td>483.54489</td>\n",
              "    </tr>\n",
              "    <tr>\n",
              "      <th>2</th>\n",
              "      <td>Decoración</td>\n",
              "      <td>479216.09</td>\n",
              "      <td>6490</td>\n",
              "      <td>1000</td>\n",
              "      <td>74.09800</td>\n",
              "      <td>479.21609</td>\n",
              "    </tr>\n",
              "  </tbody>\n",
              "</table>\n",
              "</div>\n",
              "    <div class=\"colab-df-buttons\">\n",
              "\n",
              "  <div class=\"colab-df-container\">\n",
              "    <button class=\"colab-df-convert\" onclick=\"convertToInteractive('df-db64b19c-7421-4eb4-8f55-0d509c687d15')\"\n",
              "            title=\"Convert this dataframe to an interactive table.\"\n",
              "            style=\"display:none;\">\n",
              "\n",
              "  <svg xmlns=\"http://www.w3.org/2000/svg\" height=\"24px\" viewBox=\"0 -960 960 960\">\n",
              "    <path d=\"M120-120v-720h720v720H120Zm60-500h600v-160H180v160Zm220 220h160v-160H400v160Zm0 220h160v-160H400v160ZM180-400h160v-160H180v160Zm440 0h160v-160H620v160ZM180-180h160v-160H180v160Zm440 0h160v-160H620v160Z\"/>\n",
              "  </svg>\n",
              "    </button>\n",
              "\n",
              "  <style>\n",
              "    .colab-df-container {\n",
              "      display:flex;\n",
              "      gap: 12px;\n",
              "    }\n",
              "\n",
              "    .colab-df-convert {\n",
              "      background-color: #E8F0FE;\n",
              "      border: none;\n",
              "      border-radius: 50%;\n",
              "      cursor: pointer;\n",
              "      display: none;\n",
              "      fill: #1967D2;\n",
              "      height: 32px;\n",
              "      padding: 0 0 0 0;\n",
              "      width: 32px;\n",
              "    }\n",
              "\n",
              "    .colab-df-convert:hover {\n",
              "      background-color: #E2EBFA;\n",
              "      box-shadow: 0px 1px 2px rgba(60, 64, 67, 0.3), 0px 1px 3px 1px rgba(60, 64, 67, 0.15);\n",
              "      fill: #174EA6;\n",
              "    }\n",
              "\n",
              "    .colab-df-buttons div {\n",
              "      margin-bottom: 4px;\n",
              "    }\n",
              "\n",
              "    [theme=dark] .colab-df-convert {\n",
              "      background-color: #3B4455;\n",
              "      fill: #D2E3FC;\n",
              "    }\n",
              "\n",
              "    [theme=dark] .colab-df-convert:hover {\n",
              "      background-color: #434B5C;\n",
              "      box-shadow: 0px 1px 3px 1px rgba(0, 0, 0, 0.15);\n",
              "      filter: drop-shadow(0px 1px 2px rgba(0, 0, 0, 0.3));\n",
              "      fill: #FFFFFF;\n",
              "    }\n",
              "  </style>\n",
              "\n",
              "    <script>\n",
              "      const buttonEl =\n",
              "        document.querySelector('#df-db64b19c-7421-4eb4-8f55-0d509c687d15 button.colab-df-convert');\n",
              "      buttonEl.style.display =\n",
              "        google.colab.kernel.accessAllowed ? 'block' : 'none';\n",
              "\n",
              "      async function convertToInteractive(key) {\n",
              "        const element = document.querySelector('#df-db64b19c-7421-4eb4-8f55-0d509c687d15');\n",
              "        const dataTable =\n",
              "          await google.colab.kernel.invokeFunction('convertToInteractive',\n",
              "                                                    [key], {});\n",
              "        if (!dataTable) return;\n",
              "\n",
              "        const docLinkHtml = 'Like what you see? Visit the ' +\n",
              "          '<a target=\"_blank\" href=https://colab.research.google.com/notebooks/data_table.ipynb>data table notebook</a>'\n",
              "          + ' to learn more about interactive tables.';\n",
              "        element.innerHTML = '';\n",
              "        dataTable['output_type'] = 'display_data';\n",
              "        await google.colab.output.renderOutput(dataTable, element);\n",
              "        const docLink = document.createElement('div');\n",
              "        docLink.innerHTML = docLinkHtml;\n",
              "        element.appendChild(docLink);\n",
              "      }\n",
              "    </script>\n",
              "  </div>\n",
              "\n",
              "\n",
              "    <div id=\"df-3d9e9455-47c8-4760-bb96-757f0251e800\">\n",
              "      <button class=\"colab-df-quickchart\" onclick=\"quickchart('df-3d9e9455-47c8-4760-bb96-757f0251e800')\"\n",
              "                title=\"Suggest charts\"\n",
              "                style=\"display:none;\">\n",
              "\n",
              "<svg xmlns=\"http://www.w3.org/2000/svg\" height=\"24px\"viewBox=\"0 0 24 24\"\n",
              "     width=\"24px\">\n",
              "    <g>\n",
              "        <path d=\"M19 3H5c-1.1 0-2 .9-2 2v14c0 1.1.9 2 2 2h14c1.1 0 2-.9 2-2V5c0-1.1-.9-2-2-2zM9 17H7v-7h2v7zm4 0h-2V7h2v10zm4 0h-2v-4h2v4z\"/>\n",
              "    </g>\n",
              "</svg>\n",
              "      </button>\n",
              "\n",
              "<style>\n",
              "  .colab-df-quickchart {\n",
              "      --bg-color: #E8F0FE;\n",
              "      --fill-color: #1967D2;\n",
              "      --hover-bg-color: #E2EBFA;\n",
              "      --hover-fill-color: #174EA6;\n",
              "      --disabled-fill-color: #AAA;\n",
              "      --disabled-bg-color: #DDD;\n",
              "  }\n",
              "\n",
              "  [theme=dark] .colab-df-quickchart {\n",
              "      --bg-color: #3B4455;\n",
              "      --fill-color: #D2E3FC;\n",
              "      --hover-bg-color: #434B5C;\n",
              "      --hover-fill-color: #FFFFFF;\n",
              "      --disabled-bg-color: #3B4455;\n",
              "      --disabled-fill-color: #666;\n",
              "  }\n",
              "\n",
              "  .colab-df-quickchart {\n",
              "    background-color: var(--bg-color);\n",
              "    border: none;\n",
              "    border-radius: 50%;\n",
              "    cursor: pointer;\n",
              "    display: none;\n",
              "    fill: var(--fill-color);\n",
              "    height: 32px;\n",
              "    padding: 0;\n",
              "    width: 32px;\n",
              "  }\n",
              "\n",
              "  .colab-df-quickchart:hover {\n",
              "    background-color: var(--hover-bg-color);\n",
              "    box-shadow: 0 1px 2px rgba(60, 64, 67, 0.3), 0 1px 3px 1px rgba(60, 64, 67, 0.15);\n",
              "    fill: var(--button-hover-fill-color);\n",
              "  }\n",
              "\n",
              "  .colab-df-quickchart-complete:disabled,\n",
              "  .colab-df-quickchart-complete:disabled:hover {\n",
              "    background-color: var(--disabled-bg-color);\n",
              "    fill: var(--disabled-fill-color);\n",
              "    box-shadow: none;\n",
              "  }\n",
              "\n",
              "  .colab-df-spinner {\n",
              "    border: 2px solid var(--fill-color);\n",
              "    border-color: transparent;\n",
              "    border-bottom-color: var(--fill-color);\n",
              "    animation:\n",
              "      spin 1s steps(1) infinite;\n",
              "  }\n",
              "\n",
              "  @keyframes spin {\n",
              "    0% {\n",
              "      border-color: transparent;\n",
              "      border-bottom-color: var(--fill-color);\n",
              "      border-left-color: var(--fill-color);\n",
              "    }\n",
              "    20% {\n",
              "      border-color: transparent;\n",
              "      border-left-color: var(--fill-color);\n",
              "      border-top-color: var(--fill-color);\n",
              "    }\n",
              "    30% {\n",
              "      border-color: transparent;\n",
              "      border-left-color: var(--fill-color);\n",
              "      border-top-color: var(--fill-color);\n",
              "      border-right-color: var(--fill-color);\n",
              "    }\n",
              "    40% {\n",
              "      border-color: transparent;\n",
              "      border-right-color: var(--fill-color);\n",
              "      border-top-color: var(--fill-color);\n",
              "    }\n",
              "    60% {\n",
              "      border-color: transparent;\n",
              "      border-right-color: var(--fill-color);\n",
              "    }\n",
              "    80% {\n",
              "      border-color: transparent;\n",
              "      border-right-color: var(--fill-color);\n",
              "      border-bottom-color: var(--fill-color);\n",
              "    }\n",
              "    90% {\n",
              "      border-color: transparent;\n",
              "      border-bottom-color: var(--fill-color);\n",
              "    }\n",
              "  }\n",
              "</style>\n",
              "\n",
              "      <script>\n",
              "        async function quickchart(key) {\n",
              "          const quickchartButtonEl =\n",
              "            document.querySelector('#' + key + ' button');\n",
              "          quickchartButtonEl.disabled = true;  // To prevent multiple clicks.\n",
              "          quickchartButtonEl.classList.add('colab-df-spinner');\n",
              "          try {\n",
              "            const charts = await google.colab.kernel.invokeFunction(\n",
              "                'suggestCharts', [key], {});\n",
              "          } catch (error) {\n",
              "            console.error('Error during call to suggestCharts:', error);\n",
              "          }\n",
              "          quickchartButtonEl.classList.remove('colab-df-spinner');\n",
              "          quickchartButtonEl.classList.add('colab-df-quickchart-complete');\n",
              "        }\n",
              "        (() => {\n",
              "          let quickchartButtonEl =\n",
              "            document.querySelector('#df-3d9e9455-47c8-4760-bb96-757f0251e800 button');\n",
              "          quickchartButtonEl.style.display =\n",
              "            google.colab.kernel.accessAllowed ? 'block' : 'none';\n",
              "        })();\n",
              "      </script>\n",
              "    </div>\n",
              "\n",
              "    </div>\n",
              "  </div>\n"
            ],
            "application/vnd.google.colaboratory.intrinsic+json": {
              "type": "dataframe",
              "summary": "{\n  \"name\": \"display(resumen_cat\",\n  \"rows\": 3,\n  \"fields\": [\n    {\n      \"column\": \"categoria\",\n      \"properties\": {\n        \"dtype\": \"string\",\n        \"num_unique_values\": 3,\n        \"samples\": [\n          \"Electrodom\\u00e9sticos\",\n          \"Electr\\u00f3nica\",\n          \"Decoraci\\u00f3n\"\n        ],\n        \"semantic_type\": \"\",\n        \"description\": \"\"\n      }\n    },\n    {\n      \"column\": \"ingreso_total\",\n      \"properties\": {\n        \"dtype\": \"Float64\",\n        \"num_unique_values\": 3,\n        \"samples\": [\n          505299.63,\n          482577.8,\n          479216.09\n        ],\n        \"semantic_type\": \"\",\n        \"description\": \"\"\n      }\n    },\n    {\n      \"column\": \"unidades\",\n      \"properties\": {\n        \"dtype\": \"Int64\",\n        \"num_unique_values\": 3,\n        \"samples\": [\n          6592,\n          6413,\n          6490\n        ],\n        \"semantic_type\": \"\",\n        \"description\": \"\"\n      }\n    },\n    {\n      \"column\": \"ventas\",\n      \"properties\": {\n        \"dtype\": \"Int64\",\n        \"num_unique_values\": 2,\n        \"samples\": [\n          998,\n          1000\n        ],\n        \"semantic_type\": \"\",\n        \"description\": \"\"\n      }\n    },\n    {\n      \"column\": \"precio_promedio\",\n      \"properties\": {\n        \"dtype\": \"number\",\n        \"std\": 1.211889458970884,\n        \"min\": 74.098,\n        \"max\": 76.52096,\n        \"num_unique_values\": 3,\n        \"samples\": [\n          76.52096,\n          75.25491983967936\n        ],\n        \"semantic_type\": \"\",\n        \"description\": \"\"\n      }\n    },\n    {\n      \"column\": \"ticket_promedio_por_venta\",\n      \"properties\": {\n        \"dtype\": \"Float64\",\n        \"num_unique_values\": 3,\n        \"samples\": [\n          505.29963,\n          483.5448897795591\n        ],\n        \"semantic_type\": \"\",\n        \"description\": \"\"\n      }\n    }\n  ]\n}"
            }
          },
          "metadata": {}
        }
      ]
    },
    {
      "cell_type": "code",
      "source": [],
      "metadata": {
        "id": "u2-EQKBOdM3F"
      },
      "id": "u2-EQKBOdM3F",
      "execution_count": null,
      "outputs": []
    },
    {
      "cell_type": "markdown",
      "id": "ae31e603",
      "metadata": {
        "id": "ae31e603"
      },
      "source": [
        "###4) Integración de Datos: Combinar los sets de datos de ventas y marketing para obtener una visión más amplia de las tendencias."
      ]
    },
    {
      "cell_type": "code",
      "execution_count": null,
      "id": "767d85a7",
      "metadata": {
        "id": "767d85a7"
      },
      "outputs": [],
      "source": [
        "# TODO: Combinar los sets de datos de ventas y marketing para obtener una visión más amplia de las tendencias.\n",
        "# Sugerencia: usar pd.merge() especificando la clave común entre ambos DataFrames.\n",
        "# Documentar cualquier observación relevante sobre la combinación de datos.\n"
      ]
    }
  ],
  "metadata": {
    "language_info": {
      "name": "python"
    },
    "colab": {
      "provenance": [],
      "include_colab_link": true
    },
    "kernelspec": {
      "name": "python3",
      "display_name": "Python 3"
    }
  },
  "nbformat": 4,
  "nbformat_minor": 5
}